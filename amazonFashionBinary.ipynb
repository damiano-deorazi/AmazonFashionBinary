{
 "cells": [
  {
   "metadata": {},
   "cell_type": "markdown",
   "source": [
    "# Amazon Fashion Binary\n",
    "\n",
    "Il progetto è volto allo sviluppo di un modello ML per svolgere sentiment analysis su recensioni di utenti amazon al fine di classificarle come positive o negative."
   ],
   "id": "b4a16bcbf83af509"
  },
  {
   "metadata": {
    "ExecuteTime": {
     "end_time": "2025-03-09T18:20:27.779579Z",
     "start_time": "2025-03-09T18:20:17.857078Z"
    }
   },
   "cell_type": "code",
   "source": [
    "import tensorflow as tf\n",
    "from tensorflow import keras\n",
    "from keras import models, layers"
   ],
   "id": "24678186c6705341",
   "outputs": [],
   "execution_count": 1
  },
  {
   "metadata": {},
   "cell_type": "markdown",
   "source": [
    "## Dataset\n",
    "Il dataset è composto da 20000 recensioni positive e 20000 recensioni negative. Verranno provate varie configurazioni del dataset: la prima consiste nel dataset completo senza apportare nessuna modifica alle recensioni, nella seconda le recensioni verranno modificate in base alla loro lunghezza e alla dimensione del vocabolario."
   ],
   "id": "81ec1fdbce83c8b2"
  },
  {
   "metadata": {
    "ExecuteTime": {
     "end_time": "2025-03-09T17:48:06.761072Z",
     "start_time": "2025-03-09T17:48:06.756578Z"
    }
   },
   "cell_type": "code",
   "source": [
    "#path della directory deel dataset\n",
    "directory_path = \"./reviews\""
   ],
   "id": "15132afa70468fd0",
   "outputs": [],
   "execution_count": 2
  },
  {
   "metadata": {},
   "cell_type": "markdown",
   "source": "Il dataset viene dapprima diviso in training set (70%), validation set (15%) e test set (15%)",
   "id": "d39084559729dc4d"
  },
  {
   "cell_type": "code",
   "id": "initial_id",
   "metadata": {
    "collapsed": true,
    "ExecuteTime": {
     "end_time": "2025-03-09T17:48:21.242248Z",
     "start_time": "2025-03-09T17:48:11.809284Z"
    }
   },
   "source": [
    "train_dataset, test_validation_dataset = tf.keras.preprocessing.text_dataset_from_directory(\n",
    "    directory_path,\n",
    "    labels='inferred',\n",
    "    label_mode='int',\n",
    "    class_names=None,\n",
    "    batch_size=32,\n",
    "    max_length=None,\n",
    "    shuffle=True,\n",
    "    seed=42,\n",
    "    validation_split=0.3,\n",
    "    subset=\"both\",\n",
    "    follow_links=False,\n",
    "    verbose=True\n",
    ")\n",
    "test_dataset, validation_dataset = tf.keras.utils.split_dataset(\n",
    "    test_validation_dataset, left_size=0.5, shuffle=True, seed=42\n",
    ")\n",
    "X_train = train_dataset.map(lambda x, y: x)\n",
    "X_test = test_dataset.map(lambda x, y: x)\n",
    "X_validation = validation_dataset.map(lambda x, y: x)"
   ],
   "outputs": [
    {
     "name": "stdout",
     "output_type": "stream",
     "text": [
      "Found 40000 files belonging to 2 classes.\n",
      "Using 28000 files for training.\n",
      "Using 12000 files for validation.\n"
     ]
    }
   ],
   "execution_count": 3
  },
  {
   "metadata": {},
   "cell_type": "markdown",
   "source": "Vengono calcolate la media e la varianza della lunghezza delle recensioni: questi dati verranno utilizzati per scegliere le configurazioni del dataset su cui il modello opererà.",
   "id": "1374f81b8c6264e3"
  },
  {
   "metadata": {
    "ExecuteTime": {
     "end_time": "2025-03-09T17:48:39.404711Z",
     "start_time": "2025-03-09T17:48:30.177619Z"
    }
   },
   "cell_type": "code",
   "source": [
    "#lunghezza media delle recensioni\n",
    "DATASET_SIZE = 40000\n",
    "len_strings = []\n",
    "\n",
    "for batch in X_train:\n",
    "    n = batch.numpy()\n",
    "    for data in n:\n",
    "        split = data.split()\n",
    "        len_strings.append(len(split))\n",
    "\n",
    "for batch in X_test:\n",
    "    n = batch.numpy()\n",
    "    for data in n:\n",
    "        split = data.split()\n",
    "        len_strings.append(len(split))\n",
    "\n",
    "for batch in X_validation:\n",
    "    n = batch.numpy()\n",
    "    for data in n:\n",
    "        split = data.split()\n",
    "        len_strings.append(len(split))\n",
    "\n",
    "len_mean = sum(len_strings) / DATASET_SIZE\n",
    "len_variance = sum((len_text - len_mean) ** 2 for len_text in len_strings) / DATASET_SIZE\n",
    "\n",
    "print(\"Media: \" + str(len_mean) + \"\\nVarianza: \" + str(len_variance))"
   ],
   "id": "cb4a110af5e1ccd7",
   "outputs": [
    {
     "name": "stdout",
     "output_type": "stream",
     "text": [
      "Media: 33.1579\n",
      "Varianza: 1501.74106759\n"
     ]
    }
   ],
   "execution_count": 4
  },
  {
   "metadata": {},
   "cell_type": "markdown",
   "source": [
    "# Prima configurazione\n",
    "\n",
    "Nella tokenizzazione delle recensione vengono scelte una size per il vocabolario pari a 30 e una lunghezza massima delle recensioni di 20 (sotto la media)."
   ],
   "id": "2210236cc1470d20"
  },
  {
   "metadata": {
    "ExecuteTime": {
     "end_time": "2025-03-09T17:48:51.913915Z",
     "start_time": "2025-03-09T17:48:43.951958Z"
    }
   },
   "cell_type": "code",
   "source": [
    "MAX_SEQUENCE_LENGTH = 20\n",
    "VOCAB_SIZE = 30\n",
    "vectorizationLayer = tf.keras.layers.TextVectorization(\n",
    "    max_tokens=VOCAB_SIZE,\n",
    "    output_mode='int',\n",
    "    output_sequence_length=MAX_SEQUENCE_LENGTH)\n",
    "vectorizationLayer.adapt(X_train)"
   ],
   "id": "7f80320231a5bf0e",
   "outputs": [],
   "execution_count": 5
  },
  {
   "metadata": {
    "ExecuteTime": {
     "end_time": "2025-03-09T17:48:55.229318Z",
     "start_time": "2025-03-09T17:48:55.219679Z"
    }
   },
   "cell_type": "code",
   "source": "model = models.Sequential()",
   "id": "6a5617a67dcdbc1c",
   "outputs": [],
   "execution_count": 6
  },
  {
   "metadata": {
    "ExecuteTime": {
     "end_time": "2025-03-09T17:48:57.487577Z",
     "start_time": "2025-03-09T17:48:57.417037Z"
    }
   },
   "cell_type": "code",
   "source": [
    "# Input - Layer\n",
    "model.add(vectorizationLayer)\n",
    "# Hidden - Layers\n",
    "model.add(layers.Dense(50, activation = \"relu\"))\n",
    "model.add(layers.Dropout(0.3))\n",
    "model.add(layers.Dense(50, activation = \"relu\"))\n",
    "model.add(layers.Dropout(0.2))\n",
    "model.add(layers.Dense(50, activation = \"relu\"))\n",
    "# Output- Layer\n",
    "model.add(layers.Dense(1, activation = \"sigmoid\"))\n",
    "model.summary()"
   ],
   "id": "760cab489721a437",
   "outputs": [
    {
     "data": {
      "text/plain": [
       "\u001B[1mModel: \"sequential\"\u001B[0m\n"
      ],
      "text/html": [
       "<pre style=\"white-space:pre;overflow-x:auto;line-height:normal;font-family:Menlo,'DejaVu Sans Mono',consolas,'Courier New',monospace\"><span style=\"font-weight: bold\">Model: \"sequential\"</span>\n",
       "</pre>\n"
      ]
     },
     "metadata": {},
     "output_type": "display_data"
    },
    {
     "data": {
      "text/plain": [
       "┏━━━━━━━━━━━━━━━━━━━━━━━━━━━━━━━━━┳━━━━━━━━━━━━━━━━━━━━━━━━┳━━━━━━━━━━━━━━━┓\n",
       "┃\u001B[1m \u001B[0m\u001B[1mLayer (type)                   \u001B[0m\u001B[1m \u001B[0m┃\u001B[1m \u001B[0m\u001B[1mOutput Shape          \u001B[0m\u001B[1m \u001B[0m┃\u001B[1m \u001B[0m\u001B[1m      Param #\u001B[0m\u001B[1m \u001B[0m┃\n",
       "┡━━━━━━━━━━━━━━━━━━━━━━━━━━━━━━━━━╇━━━━━━━━━━━━━━━━━━━━━━━━╇━━━━━━━━━━━━━━━┩\n",
       "│ text_vectorization              │ ?                      │   \u001B[38;5;34m0\u001B[0m (unbuilt) │\n",
       "│ (\u001B[38;5;33mTextVectorization\u001B[0m)             │                        │               │\n",
       "├─────────────────────────────────┼────────────────────────┼───────────────┤\n",
       "│ dense (\u001B[38;5;33mDense\u001B[0m)                   │ ?                      │   \u001B[38;5;34m0\u001B[0m (unbuilt) │\n",
       "├─────────────────────────────────┼────────────────────────┼───────────────┤\n",
       "│ dropout (\u001B[38;5;33mDropout\u001B[0m)               │ ?                      │             \u001B[38;5;34m0\u001B[0m │\n",
       "├─────────────────────────────────┼────────────────────────┼───────────────┤\n",
       "│ dense_1 (\u001B[38;5;33mDense\u001B[0m)                 │ ?                      │   \u001B[38;5;34m0\u001B[0m (unbuilt) │\n",
       "├─────────────────────────────────┼────────────────────────┼───────────────┤\n",
       "│ dropout_1 (\u001B[38;5;33mDropout\u001B[0m)             │ ?                      │             \u001B[38;5;34m0\u001B[0m │\n",
       "├─────────────────────────────────┼────────────────────────┼───────────────┤\n",
       "│ dense_2 (\u001B[38;5;33mDense\u001B[0m)                 │ ?                      │   \u001B[38;5;34m0\u001B[0m (unbuilt) │\n",
       "├─────────────────────────────────┼────────────────────────┼───────────────┤\n",
       "│ dense_3 (\u001B[38;5;33mDense\u001B[0m)                 │ ?                      │   \u001B[38;5;34m0\u001B[0m (unbuilt) │\n",
       "└─────────────────────────────────┴────────────────────────┴───────────────┘\n"
      ],
      "text/html": [
       "<pre style=\"white-space:pre;overflow-x:auto;line-height:normal;font-family:Menlo,'DejaVu Sans Mono',consolas,'Courier New',monospace\">┏━━━━━━━━━━━━━━━━━━━━━━━━━━━━━━━━━┳━━━━━━━━━━━━━━━━━━━━━━━━┳━━━━━━━━━━━━━━━┓\n",
       "┃<span style=\"font-weight: bold\"> Layer (type)                    </span>┃<span style=\"font-weight: bold\"> Output Shape           </span>┃<span style=\"font-weight: bold\">       Param # </span>┃\n",
       "┡━━━━━━━━━━━━━━━━━━━━━━━━━━━━━━━━━╇━━━━━━━━━━━━━━━━━━━━━━━━╇━━━━━━━━━━━━━━━┩\n",
       "│ text_vectorization              │ ?                      │   <span style=\"color: #00af00; text-decoration-color: #00af00\">0</span> (unbuilt) │\n",
       "│ (<span style=\"color: #0087ff; text-decoration-color: #0087ff\">TextVectorization</span>)             │                        │               │\n",
       "├─────────────────────────────────┼────────────────────────┼───────────────┤\n",
       "│ dense (<span style=\"color: #0087ff; text-decoration-color: #0087ff\">Dense</span>)                   │ ?                      │   <span style=\"color: #00af00; text-decoration-color: #00af00\">0</span> (unbuilt) │\n",
       "├─────────────────────────────────┼────────────────────────┼───────────────┤\n",
       "│ dropout (<span style=\"color: #0087ff; text-decoration-color: #0087ff\">Dropout</span>)               │ ?                      │             <span style=\"color: #00af00; text-decoration-color: #00af00\">0</span> │\n",
       "├─────────────────────────────────┼────────────────────────┼───────────────┤\n",
       "│ dense_1 (<span style=\"color: #0087ff; text-decoration-color: #0087ff\">Dense</span>)                 │ ?                      │   <span style=\"color: #00af00; text-decoration-color: #00af00\">0</span> (unbuilt) │\n",
       "├─────────────────────────────────┼────────────────────────┼───────────────┤\n",
       "│ dropout_1 (<span style=\"color: #0087ff; text-decoration-color: #0087ff\">Dropout</span>)             │ ?                      │             <span style=\"color: #00af00; text-decoration-color: #00af00\">0</span> │\n",
       "├─────────────────────────────────┼────────────────────────┼───────────────┤\n",
       "│ dense_2 (<span style=\"color: #0087ff; text-decoration-color: #0087ff\">Dense</span>)                 │ ?                      │   <span style=\"color: #00af00; text-decoration-color: #00af00\">0</span> (unbuilt) │\n",
       "├─────────────────────────────────┼────────────────────────┼───────────────┤\n",
       "│ dense_3 (<span style=\"color: #0087ff; text-decoration-color: #0087ff\">Dense</span>)                 │ ?                      │   <span style=\"color: #00af00; text-decoration-color: #00af00\">0</span> (unbuilt) │\n",
       "└─────────────────────────────────┴────────────────────────┴───────────────┘\n",
       "</pre>\n"
      ]
     },
     "metadata": {},
     "output_type": "display_data"
    },
    {
     "data": {
      "text/plain": [
       "\u001B[1m Total params: \u001B[0m\u001B[38;5;34m0\u001B[0m (0.00 B)\n"
      ],
      "text/html": [
       "<pre style=\"white-space:pre;overflow-x:auto;line-height:normal;font-family:Menlo,'DejaVu Sans Mono',consolas,'Courier New',monospace\"><span style=\"font-weight: bold\"> Total params: </span><span style=\"color: #00af00; text-decoration-color: #00af00\">0</span> (0.00 B)\n",
       "</pre>\n"
      ]
     },
     "metadata": {},
     "output_type": "display_data"
    },
    {
     "data": {
      "text/plain": [
       "\u001B[1m Trainable params: \u001B[0m\u001B[38;5;34m0\u001B[0m (0.00 B)\n"
      ],
      "text/html": [
       "<pre style=\"white-space:pre;overflow-x:auto;line-height:normal;font-family:Menlo,'DejaVu Sans Mono',consolas,'Courier New',monospace\"><span style=\"font-weight: bold\"> Trainable params: </span><span style=\"color: #00af00; text-decoration-color: #00af00\">0</span> (0.00 B)\n",
       "</pre>\n"
      ]
     },
     "metadata": {},
     "output_type": "display_data"
    },
    {
     "data": {
      "text/plain": [
       "\u001B[1m Non-trainable params: \u001B[0m\u001B[38;5;34m0\u001B[0m (0.00 B)\n"
      ],
      "text/html": [
       "<pre style=\"white-space:pre;overflow-x:auto;line-height:normal;font-family:Menlo,'DejaVu Sans Mono',consolas,'Courier New',monospace\"><span style=\"font-weight: bold\"> Non-trainable params: </span><span style=\"color: #00af00; text-decoration-color: #00af00\">0</span> (0.00 B)\n",
       "</pre>\n"
      ]
     },
     "metadata": {},
     "output_type": "display_data"
    }
   ],
   "execution_count": 7
  },
  {
   "metadata": {
    "ExecuteTime": {
     "end_time": "2025-03-09T17:49:04.880420Z",
     "start_time": "2025-03-09T17:49:04.839683Z"
    }
   },
   "cell_type": "code",
   "source": [
    "model.compile(\n",
    "optimizer = \"adam\",\n",
    "loss = \"binary_crossentropy\",\n",
    "metrics = [\"accuracy\"]\n",
    ")"
   ],
   "id": "343be83253473b62",
   "outputs": [],
   "execution_count": 8
  },
  {
   "metadata": {
    "ExecuteTime": {
     "end_time": "2025-03-09T17:52:02.887150Z",
     "start_time": "2025-03-09T17:49:07.098182Z"
    }
   },
   "cell_type": "code",
   "source": [
    "results = model.fit(\n",
    "train_dataset,\n",
    "epochs= 20,\n",
    "batch_size = 32,\n",
    "validation_data = validation_dataset\n",
    ")"
   ],
   "id": "e2cf0ff7e2d2673",
   "outputs": [
    {
     "name": "stdout",
     "output_type": "stream",
     "text": [
      "Epoch 1/20\n",
      "\u001B[1m875/875\u001B[0m \u001B[32m━━━━━━━━━━━━━━━━━━━━\u001B[0m\u001B[37m\u001B[0m \u001B[1m10s\u001B[0m 9ms/step - accuracy: 0.5307 - loss: 0.8173 - val_accuracy: 0.5470 - val_loss: 0.6885\n",
      "Epoch 2/20\n",
      "\u001B[1m875/875\u001B[0m \u001B[32m━━━━━━━━━━━━━━━━━━━━\u001B[0m\u001B[37m\u001B[0m \u001B[1m10s\u001B[0m 11ms/step - accuracy: 0.5447 - loss: 0.6921 - val_accuracy: 0.5511 - val_loss: 0.6853\n",
      "Epoch 3/20\n",
      "\u001B[1m875/875\u001B[0m \u001B[32m━━━━━━━━━━━━━━━━━━━━\u001B[0m\u001B[37m\u001B[0m \u001B[1m9s\u001B[0m 11ms/step - accuracy: 0.5538 - loss: 0.6870 - val_accuracy: 0.5531 - val_loss: 0.6829\n",
      "Epoch 4/20\n",
      "\u001B[1m875/875\u001B[0m \u001B[32m━━━━━━━━━━━━━━━━━━━━\u001B[0m\u001B[37m\u001B[0m \u001B[1m9s\u001B[0m 10ms/step - accuracy: 0.5693 - loss: 0.6820 - val_accuracy: 0.5617 - val_loss: 0.6802\n",
      "Epoch 5/20\n",
      "\u001B[1m875/875\u001B[0m \u001B[32m━━━━━━━━━━━━━━━━━━━━\u001B[0m\u001B[37m\u001B[0m \u001B[1m9s\u001B[0m 10ms/step - accuracy: 0.5705 - loss: 0.6782 - val_accuracy: 0.5652 - val_loss: 0.6787\n",
      "Epoch 6/20\n",
      "\u001B[1m875/875\u001B[0m \u001B[32m━━━━━━━━━━━━━━━━━━━━\u001B[0m\u001B[37m\u001B[0m \u001B[1m11s\u001B[0m 12ms/step - accuracy: 0.5721 - loss: 0.6780 - val_accuracy: 0.5683 - val_loss: 0.6771\n",
      "Epoch 7/20\n",
      "\u001B[1m875/875\u001B[0m \u001B[32m━━━━━━━━━━━━━━━━━━━━\u001B[0m\u001B[37m\u001B[0m \u001B[1m9s\u001B[0m 10ms/step - accuracy: 0.5747 - loss: 0.6759 - val_accuracy: 0.5642 - val_loss: 0.6782\n",
      "Epoch 8/20\n",
      "\u001B[1m875/875\u001B[0m \u001B[32m━━━━━━━━━━━━━━━━━━━━\u001B[0m\u001B[37m\u001B[0m \u001B[1m8s\u001B[0m 9ms/step - accuracy: 0.5799 - loss: 0.6744 - val_accuracy: 0.5689 - val_loss: 0.6770\n",
      "Epoch 9/20\n",
      "\u001B[1m875/875\u001B[0m \u001B[32m━━━━━━━━━━━━━━━━━━━━\u001B[0m\u001B[37m\u001B[0m \u001B[1m8s\u001B[0m 10ms/step - accuracy: 0.5794 - loss: 0.6736 - val_accuracy: 0.5653 - val_loss: 0.6757\n",
      "Epoch 10/20\n",
      "\u001B[1m875/875\u001B[0m \u001B[32m━━━━━━━━━━━━━━━━━━━━\u001B[0m\u001B[37m\u001B[0m \u001B[1m9s\u001B[0m 10ms/step - accuracy: 0.5821 - loss: 0.6738 - val_accuracy: 0.5702 - val_loss: 0.6749\n",
      "Epoch 11/20\n",
      "\u001B[1m875/875\u001B[0m \u001B[32m━━━━━━━━━━━━━━━━━━━━\u001B[0m\u001B[37m\u001B[0m \u001B[1m8s\u001B[0m 10ms/step - accuracy: 0.5845 - loss: 0.6731 - val_accuracy: 0.5715 - val_loss: 0.6756\n",
      "Epoch 12/20\n",
      "\u001B[1m875/875\u001B[0m \u001B[32m━━━━━━━━━━━━━━━━━━━━\u001B[0m\u001B[37m\u001B[0m \u001B[1m8s\u001B[0m 9ms/step - accuracy: 0.5855 - loss: 0.6726 - val_accuracy: 0.5707 - val_loss: 0.6755\n",
      "Epoch 13/20\n",
      "\u001B[1m875/875\u001B[0m \u001B[32m━━━━━━━━━━━━━━━━━━━━\u001B[0m\u001B[37m\u001B[0m \u001B[1m9s\u001B[0m 10ms/step - accuracy: 0.5868 - loss: 0.6699 - val_accuracy: 0.5729 - val_loss: 0.6751\n",
      "Epoch 14/20\n",
      "\u001B[1m875/875\u001B[0m \u001B[32m━━━━━━━━━━━━━━━━━━━━\u001B[0m\u001B[37m\u001B[0m \u001B[1m8s\u001B[0m 10ms/step - accuracy: 0.5864 - loss: 0.6698 - val_accuracy: 0.5720 - val_loss: 0.6745\n",
      "Epoch 15/20\n",
      "\u001B[1m875/875\u001B[0m \u001B[32m━━━━━━━━━━━━━━━━━━━━\u001B[0m\u001B[37m\u001B[0m \u001B[1m8s\u001B[0m 9ms/step - accuracy: 0.5878 - loss: 0.6695 - val_accuracy: 0.5750 - val_loss: 0.6747\n",
      "Epoch 16/20\n",
      "\u001B[1m875/875\u001B[0m \u001B[32m━━━━━━━━━━━━━━━━━━━━\u001B[0m\u001B[37m\u001B[0m \u001B[1m9s\u001B[0m 10ms/step - accuracy: 0.5938 - loss: 0.6687 - val_accuracy: 0.5725 - val_loss: 0.6742\n",
      "Epoch 17/20\n",
      "\u001B[1m875/875\u001B[0m \u001B[32m━━━━━━━━━━━━━━━━━━━━\u001B[0m\u001B[37m\u001B[0m \u001B[1m8s\u001B[0m 10ms/step - accuracy: 0.5934 - loss: 0.6684 - val_accuracy: 0.5740 - val_loss: 0.6748\n",
      "Epoch 18/20\n",
      "\u001B[1m875/875\u001B[0m \u001B[32m━━━━━━━━━━━━━━━━━━━━\u001B[0m\u001B[37m\u001B[0m \u001B[1m8s\u001B[0m 9ms/step - accuracy: 0.5880 - loss: 0.6674 - val_accuracy: 0.5734 - val_loss: 0.6743\n",
      "Epoch 19/20\n",
      "\u001B[1m875/875\u001B[0m \u001B[32m━━━━━━━━━━━━━━━━━━━━\u001B[0m\u001B[37m\u001B[0m \u001B[1m8s\u001B[0m 9ms/step - accuracy: 0.5909 - loss: 0.6691 - val_accuracy: 0.5774 - val_loss: 0.6749\n",
      "Epoch 20/20\n",
      "\u001B[1m875/875\u001B[0m \u001B[32m━━━━━━━━━━━━━━━━━━━━\u001B[0m\u001B[37m\u001B[0m \u001B[1m9s\u001B[0m 11ms/step - accuracy: 0.5954 - loss: 0.6677 - val_accuracy: 0.5772 - val_loss: 0.6741\n"
     ]
    }
   ],
   "execution_count": 9
  },
  {
   "metadata": {
    "ExecuteTime": {
     "end_time": "2025-03-09T17:54:42.841366Z",
     "start_time": "2025-03-09T17:54:42.441174Z"
    }
   },
   "cell_type": "code",
   "source": [
    "loss, accuracy = model.evaluate(train_dataset)\n",
    "print(f\"Training set:\\nLoss: {loss}, Accuracy: {accuracy}\")\n",
    "loss, accuracy = model.evaluate(test_dataset)\n",
    "print(f\"Test set:\\nLoss: {loss}, Accuracy: {accuracy}\")"
   ],
   "id": "8db5ea6abaed6d7d",
   "outputs": [
    {
     "name": "stdout",
     "output_type": "stream",
     "text": [
      "\u001B[1m188/188\u001B[0m \u001B[32m━━━━━━━━━━━━━━━━━━━━\u001B[0m\u001B[37m\u001B[0m \u001B[1m0s\u001B[0m 2ms/step - accuracy: 0.5939 - loss: 0.6671\n",
      "Loss: 0.6672678589820862, Accuracy: 0.5885970592498779\n"
     ]
    }
   ],
   "execution_count": 10
  },
  {
   "metadata": {},
   "cell_type": "markdown",
   "source": [
    "## Seconda configurazione\n",
    "\n",
    "Nella tokenizzazione delle recensione vengono scelte una size per il vocabolario pari a 50 e una lunghezza massima delle recensioni di 35 (circa la media).\n"
   ],
   "id": "97eddc86909b4b3f"
  },
  {
   "metadata": {
    "ExecuteTime": {
     "end_time": "2025-03-09T17:55:02.113170Z",
     "start_time": "2025-03-09T17:54:53.218107Z"
    }
   },
   "cell_type": "code",
   "source": [
    "MAX_SEQUENCE_LENGTH = 35\n",
    "VOCAB_SIZE = 50\n",
    "vectorizationLayer = tf.keras.layers.TextVectorization(\n",
    "    max_tokens=VOCAB_SIZE,\n",
    "    output_mode='int',\n",
    "    output_sequence_length=MAX_SEQUENCE_LENGTH)\n",
    "vectorizationLayer.adapt(X_train)"
   ],
   "id": "c2252f9014d25f8a",
   "outputs": [],
   "execution_count": 11
  },
  {
   "metadata": {
    "ExecuteTime": {
     "end_time": "2025-03-09T17:55:03.448510Z",
     "start_time": "2025-03-09T17:55:03.429502Z"
    }
   },
   "cell_type": "code",
   "source": "model = models.Sequential()",
   "id": "4b0aa4a8a57adf8e",
   "outputs": [],
   "execution_count": 12
  },
  {
   "metadata": {
    "ExecuteTime": {
     "end_time": "2025-03-09T17:55:06.355503Z",
     "start_time": "2025-03-09T17:55:06.309664Z"
    }
   },
   "cell_type": "code",
   "source": [
    "# Input - Layer\n",
    "model.add(vectorizationLayer)\n",
    "# Hidden - Layers\n",
    "model.add(layers.Dense(50, activation = \"relu\"))\n",
    "model.add(layers.Dropout(0.3))\n",
    "model.add(layers.Dense(50, activation = \"relu\"))\n",
    "model.add(layers.Dropout(0.2))\n",
    "model.add(layers.Dense(50, activation = \"relu\"))\n",
    "# Output- Layer\n",
    "model.add(layers.Dense(1, activation = \"sigmoid\"))\n",
    "model.summary()"
   ],
   "id": "70ef0b663a8712e5",
   "outputs": [
    {
     "data": {
      "text/plain": [
       "\u001B[1mModel: \"sequential_1\"\u001B[0m\n"
      ],
      "text/html": [
       "<pre style=\"white-space:pre;overflow-x:auto;line-height:normal;font-family:Menlo,'DejaVu Sans Mono',consolas,'Courier New',monospace\"><span style=\"font-weight: bold\">Model: \"sequential_1\"</span>\n",
       "</pre>\n"
      ]
     },
     "metadata": {},
     "output_type": "display_data"
    },
    {
     "data": {
      "text/plain": [
       "┏━━━━━━━━━━━━━━━━━━━━━━━━━━━━━━━━━┳━━━━━━━━━━━━━━━━━━━━━━━━┳━━━━━━━━━━━━━━━┓\n",
       "┃\u001B[1m \u001B[0m\u001B[1mLayer (type)                   \u001B[0m\u001B[1m \u001B[0m┃\u001B[1m \u001B[0m\u001B[1mOutput Shape          \u001B[0m\u001B[1m \u001B[0m┃\u001B[1m \u001B[0m\u001B[1m      Param #\u001B[0m\u001B[1m \u001B[0m┃\n",
       "┡━━━━━━━━━━━━━━━━━━━━━━━━━━━━━━━━━╇━━━━━━━━━━━━━━━━━━━━━━━━╇━━━━━━━━━━━━━━━┩\n",
       "│ text_vectorization_1            │ ?                      │   \u001B[38;5;34m0\u001B[0m (unbuilt) │\n",
       "│ (\u001B[38;5;33mTextVectorization\u001B[0m)             │                        │               │\n",
       "├─────────────────────────────────┼────────────────────────┼───────────────┤\n",
       "│ dense_4 (\u001B[38;5;33mDense\u001B[0m)                 │ ?                      │   \u001B[38;5;34m0\u001B[0m (unbuilt) │\n",
       "├─────────────────────────────────┼────────────────────────┼───────────────┤\n",
       "│ dropout_2 (\u001B[38;5;33mDropout\u001B[0m)             │ ?                      │             \u001B[38;5;34m0\u001B[0m │\n",
       "├─────────────────────────────────┼────────────────────────┼───────────────┤\n",
       "│ dense_5 (\u001B[38;5;33mDense\u001B[0m)                 │ ?                      │   \u001B[38;5;34m0\u001B[0m (unbuilt) │\n",
       "├─────────────────────────────────┼────────────────────────┼───────────────┤\n",
       "│ dropout_3 (\u001B[38;5;33mDropout\u001B[0m)             │ ?                      │             \u001B[38;5;34m0\u001B[0m │\n",
       "├─────────────────────────────────┼────────────────────────┼───────────────┤\n",
       "│ dense_6 (\u001B[38;5;33mDense\u001B[0m)                 │ ?                      │   \u001B[38;5;34m0\u001B[0m (unbuilt) │\n",
       "├─────────────────────────────────┼────────────────────────┼───────────────┤\n",
       "│ dense_7 (\u001B[38;5;33mDense\u001B[0m)                 │ ?                      │   \u001B[38;5;34m0\u001B[0m (unbuilt) │\n",
       "└─────────────────────────────────┴────────────────────────┴───────────────┘\n"
      ],
      "text/html": [
       "<pre style=\"white-space:pre;overflow-x:auto;line-height:normal;font-family:Menlo,'DejaVu Sans Mono',consolas,'Courier New',monospace\">┏━━━━━━━━━━━━━━━━━━━━━━━━━━━━━━━━━┳━━━━━━━━━━━━━━━━━━━━━━━━┳━━━━━━━━━━━━━━━┓\n",
       "┃<span style=\"font-weight: bold\"> Layer (type)                    </span>┃<span style=\"font-weight: bold\"> Output Shape           </span>┃<span style=\"font-weight: bold\">       Param # </span>┃\n",
       "┡━━━━━━━━━━━━━━━━━━━━━━━━━━━━━━━━━╇━━━━━━━━━━━━━━━━━━━━━━━━╇━━━━━━━━━━━━━━━┩\n",
       "│ text_vectorization_1            │ ?                      │   <span style=\"color: #00af00; text-decoration-color: #00af00\">0</span> (unbuilt) │\n",
       "│ (<span style=\"color: #0087ff; text-decoration-color: #0087ff\">TextVectorization</span>)             │                        │               │\n",
       "├─────────────────────────────────┼────────────────────────┼───────────────┤\n",
       "│ dense_4 (<span style=\"color: #0087ff; text-decoration-color: #0087ff\">Dense</span>)                 │ ?                      │   <span style=\"color: #00af00; text-decoration-color: #00af00\">0</span> (unbuilt) │\n",
       "├─────────────────────────────────┼────────────────────────┼───────────────┤\n",
       "│ dropout_2 (<span style=\"color: #0087ff; text-decoration-color: #0087ff\">Dropout</span>)             │ ?                      │             <span style=\"color: #00af00; text-decoration-color: #00af00\">0</span> │\n",
       "├─────────────────────────────────┼────────────────────────┼───────────────┤\n",
       "│ dense_5 (<span style=\"color: #0087ff; text-decoration-color: #0087ff\">Dense</span>)                 │ ?                      │   <span style=\"color: #00af00; text-decoration-color: #00af00\">0</span> (unbuilt) │\n",
       "├─────────────────────────────────┼────────────────────────┼───────────────┤\n",
       "│ dropout_3 (<span style=\"color: #0087ff; text-decoration-color: #0087ff\">Dropout</span>)             │ ?                      │             <span style=\"color: #00af00; text-decoration-color: #00af00\">0</span> │\n",
       "├─────────────────────────────────┼────────────────────────┼───────────────┤\n",
       "│ dense_6 (<span style=\"color: #0087ff; text-decoration-color: #0087ff\">Dense</span>)                 │ ?                      │   <span style=\"color: #00af00; text-decoration-color: #00af00\">0</span> (unbuilt) │\n",
       "├─────────────────────────────────┼────────────────────────┼───────────────┤\n",
       "│ dense_7 (<span style=\"color: #0087ff; text-decoration-color: #0087ff\">Dense</span>)                 │ ?                      │   <span style=\"color: #00af00; text-decoration-color: #00af00\">0</span> (unbuilt) │\n",
       "└─────────────────────────────────┴────────────────────────┴───────────────┘\n",
       "</pre>\n"
      ]
     },
     "metadata": {},
     "output_type": "display_data"
    },
    {
     "data": {
      "text/plain": [
       "\u001B[1m Total params: \u001B[0m\u001B[38;5;34m0\u001B[0m (0.00 B)\n"
      ],
      "text/html": [
       "<pre style=\"white-space:pre;overflow-x:auto;line-height:normal;font-family:Menlo,'DejaVu Sans Mono',consolas,'Courier New',monospace\"><span style=\"font-weight: bold\"> Total params: </span><span style=\"color: #00af00; text-decoration-color: #00af00\">0</span> (0.00 B)\n",
       "</pre>\n"
      ]
     },
     "metadata": {},
     "output_type": "display_data"
    },
    {
     "data": {
      "text/plain": [
       "\u001B[1m Trainable params: \u001B[0m\u001B[38;5;34m0\u001B[0m (0.00 B)\n"
      ],
      "text/html": [
       "<pre style=\"white-space:pre;overflow-x:auto;line-height:normal;font-family:Menlo,'DejaVu Sans Mono',consolas,'Courier New',monospace\"><span style=\"font-weight: bold\"> Trainable params: </span><span style=\"color: #00af00; text-decoration-color: #00af00\">0</span> (0.00 B)\n",
       "</pre>\n"
      ]
     },
     "metadata": {},
     "output_type": "display_data"
    },
    {
     "data": {
      "text/plain": [
       "\u001B[1m Non-trainable params: \u001B[0m\u001B[38;5;34m0\u001B[0m (0.00 B)\n"
      ],
      "text/html": [
       "<pre style=\"white-space:pre;overflow-x:auto;line-height:normal;font-family:Menlo,'DejaVu Sans Mono',consolas,'Courier New',monospace\"><span style=\"font-weight: bold\"> Non-trainable params: </span><span style=\"color: #00af00; text-decoration-color: #00af00\">0</span> (0.00 B)\n",
       "</pre>\n"
      ]
     },
     "metadata": {},
     "output_type": "display_data"
    }
   ],
   "execution_count": 13
  },
  {
   "metadata": {
    "ExecuteTime": {
     "end_time": "2025-03-09T17:55:13.470409Z",
     "start_time": "2025-03-09T17:55:13.446113Z"
    }
   },
   "cell_type": "code",
   "source": [
    "model.compile(\n",
    "optimizer = \"adam\",\n",
    "loss = \"binary_crossentropy\",\n",
    "metrics = [\"accuracy\"]\n",
    ")"
   ],
   "id": "cd43e49218c087b8",
   "outputs": [],
   "execution_count": 14
  },
  {
   "metadata": {
    "ExecuteTime": {
     "end_time": "2025-03-09T17:58:11.049304Z",
     "start_time": "2025-03-09T17:55:16.595722Z"
    }
   },
   "cell_type": "code",
   "source": [
    "results = model.fit(\n",
    "train_dataset,\n",
    "epochs= 20,\n",
    "batch_size = 32,\n",
    "validation_data = validation_dataset\n",
    ")"
   ],
   "id": "ee92444528ce9b2f",
   "outputs": [
    {
     "name": "stdout",
     "output_type": "stream",
     "text": [
      "Epoch 1/20\n",
      "\u001B[1m875/875\u001B[0m \u001B[32m━━━━━━━━━━━━━━━━━━━━\u001B[0m\u001B[37m\u001B[0m \u001B[1m9s\u001B[0m 8ms/step - accuracy: 0.5267 - loss: 0.8764 - val_accuracy: 0.5485 - val_loss: 0.6811\n",
      "Epoch 2/20\n",
      "\u001B[1m875/875\u001B[0m \u001B[32m━━━━━━━━━━━━━━━━━━━━\u001B[0m\u001B[37m\u001B[0m \u001B[1m8s\u001B[0m 9ms/step - accuracy: 0.5434 - loss: 0.6953 - val_accuracy: 0.5516 - val_loss: 0.6795\n",
      "Epoch 3/20\n",
      "\u001B[1m875/875\u001B[0m \u001B[32m━━━━━━━━━━━━━━━━━━━━\u001B[0m\u001B[37m\u001B[0m \u001B[1m8s\u001B[0m 9ms/step - accuracy: 0.5638 - loss: 0.6840 - val_accuracy: 0.5585 - val_loss: 0.6769\n",
      "Epoch 4/20\n",
      "\u001B[1m875/875\u001B[0m \u001B[32m━━━━━━━━━━━━━━━━━━━━\u001B[0m\u001B[37m\u001B[0m \u001B[1m9s\u001B[0m 10ms/step - accuracy: 0.5638 - loss: 0.6815 - val_accuracy: 0.5720 - val_loss: 0.6768\n",
      "Epoch 5/20\n",
      "\u001B[1m875/875\u001B[0m \u001B[32m━━━━━━━━━━━━━━━━━━━━\u001B[0m\u001B[37m\u001B[0m \u001B[1m8s\u001B[0m 10ms/step - accuracy: 0.5719 - loss: 0.6774 - val_accuracy: 0.5765 - val_loss: 0.6741\n",
      "Epoch 6/20\n",
      "\u001B[1m875/875\u001B[0m \u001B[32m━━━━━━━━━━━━━━━━━━━━\u001B[0m\u001B[37m\u001B[0m \u001B[1m8s\u001B[0m 10ms/step - accuracy: 0.5797 - loss: 0.6754 - val_accuracy: 0.5724 - val_loss: 0.6738\n",
      "Epoch 7/20\n",
      "\u001B[1m875/875\u001B[0m \u001B[32m━━━━━━━━━━━━━━━━━━━━\u001B[0m\u001B[37m\u001B[0m \u001B[1m8s\u001B[0m 9ms/step - accuracy: 0.5853 - loss: 0.6724 - val_accuracy: 0.5787 - val_loss: 0.6731\n",
      "Epoch 8/20\n",
      "\u001B[1m875/875\u001B[0m \u001B[32m━━━━━━━━━━━━━━━━━━━━\u001B[0m\u001B[37m\u001B[0m \u001B[1m9s\u001B[0m 10ms/step - accuracy: 0.5843 - loss: 0.6725 - val_accuracy: 0.5780 - val_loss: 0.6722\n",
      "Epoch 9/20\n",
      "\u001B[1m875/875\u001B[0m \u001B[32m━━━━━━━━━━━━━━━━━━━━\u001B[0m\u001B[37m\u001B[0m \u001B[1m8s\u001B[0m 10ms/step - accuracy: 0.5891 - loss: 0.6718 - val_accuracy: 0.5789 - val_loss: 0.6723\n",
      "Epoch 10/20\n",
      "\u001B[1m875/875\u001B[0m \u001B[32m━━━━━━━━━━━━━━━━━━━━\u001B[0m\u001B[37m\u001B[0m \u001B[1m8s\u001B[0m 9ms/step - accuracy: 0.5887 - loss: 0.6714 - val_accuracy: 0.5807 - val_loss: 0.6733\n",
      "Epoch 11/20\n",
      "\u001B[1m875/875\u001B[0m \u001B[32m━━━━━━━━━━━━━━━━━━━━\u001B[0m\u001B[37m\u001B[0m \u001B[1m8s\u001B[0m 10ms/step - accuracy: 0.5957 - loss: 0.6682 - val_accuracy: 0.5792 - val_loss: 0.6721\n",
      "Epoch 12/20\n",
      "\u001B[1m875/875\u001B[0m \u001B[32m━━━━━━━━━━━━━━━━━━━━\u001B[0m\u001B[37m\u001B[0m \u001B[1m9s\u001B[0m 10ms/step - accuracy: 0.5941 - loss: 0.6677 - val_accuracy: 0.5826 - val_loss: 0.6712\n",
      "Epoch 13/20\n",
      "\u001B[1m875/875\u001B[0m \u001B[32m━━━━━━━━━━━━━━━━━━━━\u001B[0m\u001B[37m\u001B[0m \u001B[1m10s\u001B[0m 11ms/step - accuracy: 0.5941 - loss: 0.6661 - val_accuracy: 0.5884 - val_loss: 0.6704\n",
      "Epoch 14/20\n",
      "\u001B[1m875/875\u001B[0m \u001B[32m━━━━━━━━━━━━━━━━━━━━\u001B[0m\u001B[37m\u001B[0m \u001B[1m9s\u001B[0m 10ms/step - accuracy: 0.5988 - loss: 0.6636 - val_accuracy: 0.5879 - val_loss: 0.6704\n",
      "Epoch 15/20\n",
      "\u001B[1m875/875\u001B[0m \u001B[32m━━━━━━━━━━━━━━━━━━━━\u001B[0m\u001B[37m\u001B[0m \u001B[1m10s\u001B[0m 11ms/step - accuracy: 0.6001 - loss: 0.6649 - val_accuracy: 0.5889 - val_loss: 0.6702\n",
      "Epoch 16/20\n",
      "\u001B[1m875/875\u001B[0m \u001B[32m━━━━━━━━━━━━━━━━━━━━\u001B[0m\u001B[37m\u001B[0m \u001B[1m9s\u001B[0m 10ms/step - accuracy: 0.6089 - loss: 0.6621 - val_accuracy: 0.5876 - val_loss: 0.6705\n",
      "Epoch 17/20\n",
      "\u001B[1m875/875\u001B[0m \u001B[32m━━━━━━━━━━━━━━━━━━━━\u001B[0m\u001B[37m\u001B[0m \u001B[1m9s\u001B[0m 10ms/step - accuracy: 0.6072 - loss: 0.6617 - val_accuracy: 0.5904 - val_loss: 0.6699\n",
      "Epoch 18/20\n",
      "\u001B[1m875/875\u001B[0m \u001B[32m━━━━━━━━━━━━━━━━━━━━\u001B[0m\u001B[37m\u001B[0m \u001B[1m9s\u001B[0m 10ms/step - accuracy: 0.6058 - loss: 0.6596 - val_accuracy: 0.5896 - val_loss: 0.6701\n",
      "Epoch 19/20\n",
      "\u001B[1m875/875\u001B[0m \u001B[32m━━━━━━━━━━━━━━━━━━━━\u001B[0m\u001B[37m\u001B[0m \u001B[1m9s\u001B[0m 11ms/step - accuracy: 0.6084 - loss: 0.6589 - val_accuracy: 0.5906 - val_loss: 0.6687\n",
      "Epoch 20/20\n",
      "\u001B[1m875/875\u001B[0m \u001B[32m━━━━━━━━━━━━━━━━━━━━\u001B[0m\u001B[37m\u001B[0m \u001B[1m9s\u001B[0m 10ms/step - accuracy: 0.6079 - loss: 0.6591 - val_accuracy: 0.5919 - val_loss: 0.6679\n"
     ]
    }
   ],
   "execution_count": 15
  },
  {
   "metadata": {
    "ExecuteTime": {
     "end_time": "2025-03-09T18:00:40.018819Z",
     "start_time": "2025-03-09T18:00:39.670939Z"
    }
   },
   "cell_type": "code",
   "source": [
    "loss, accuracy = model.evaluate(test_dataset)\n",
    "print(f\"Loss: {loss}, Accuracy: {accuracy}\")"
   ],
   "id": "73439dac28592178",
   "outputs": [
    {
     "name": "stdout",
     "output_type": "stream",
     "text": [
      "\u001B[1m188/188\u001B[0m \u001B[32m━━━━━━━━━━━━━━━━━━━━\u001B[0m\u001B[37m\u001B[0m \u001B[1m0s\u001B[0m 2ms/step - accuracy: 0.6059 - loss: 0.6631\n",
      "Loss: 0.6644010543823242, Accuracy: 0.6060505509376526\n"
     ]
    }
   ],
   "execution_count": 16
  },
  {
   "metadata": {},
   "cell_type": "markdown",
   "source": [
    "## Terza configurazione\n",
    "\n",
    "Nella tokenizzazione delle recensione vengono scelte una size per il vocabolario pari a 100 e una lunghezza massima delle recensioni di 70 (sopra la media).\n"
   ],
   "id": "69c654f921b5fdb7"
  },
  {
   "metadata": {
    "ExecuteTime": {
     "end_time": "2025-03-09T18:01:11.017327Z",
     "start_time": "2025-03-09T18:01:03.711717Z"
    }
   },
   "cell_type": "code",
   "source": [
    "MAX_SEQUENCE_LENGTH = 70\n",
    "VOCAB_SIZE = 100\n",
    "vectorizationLayer = tf.keras.layers.TextVectorization(\n",
    "    max_tokens=VOCAB_SIZE,\n",
    "    output_mode='int',\n",
    "    output_sequence_length=MAX_SEQUENCE_LENGTH)\n",
    "vectorizationLayer.adapt(X_train)"
   ],
   "id": "cdaa731999403752",
   "outputs": [],
   "execution_count": 17
  },
  {
   "metadata": {
    "ExecuteTime": {
     "end_time": "2025-03-09T18:01:14.700439Z",
     "start_time": "2025-03-09T18:01:14.685968Z"
    }
   },
   "cell_type": "code",
   "source": "model = models.Sequential()",
   "id": "172924d8a159f6aa",
   "outputs": [],
   "execution_count": 18
  },
  {
   "metadata": {
    "ExecuteTime": {
     "end_time": "2025-03-09T18:01:17.688750Z",
     "start_time": "2025-03-09T18:01:17.646682Z"
    }
   },
   "cell_type": "code",
   "source": [
    "# Input - Layer\n",
    "model.add(vectorizationLayer)\n",
    "# Hidden - Layers\n",
    "model.add(layers.Dense(50, activation = \"relu\"))\n",
    "model.add(layers.Dropout(0.3))\n",
    "model.add(layers.Dense(50, activation = \"relu\"))\n",
    "model.add(layers.Dropout(0.2))\n",
    "model.add(layers.Dense(50, activation = \"relu\"))\n",
    "# Output- Layer\n",
    "model.add(layers.Dense(1, activation = \"sigmoid\"))\n",
    "model.summary()"
   ],
   "id": "6671be1435f1edee",
   "outputs": [
    {
     "data": {
      "text/plain": [
       "\u001B[1mModel: \"sequential_2\"\u001B[0m\n"
      ],
      "text/html": [
       "<pre style=\"white-space:pre;overflow-x:auto;line-height:normal;font-family:Menlo,'DejaVu Sans Mono',consolas,'Courier New',monospace\"><span style=\"font-weight: bold\">Model: \"sequential_2\"</span>\n",
       "</pre>\n"
      ]
     },
     "metadata": {},
     "output_type": "display_data"
    },
    {
     "data": {
      "text/plain": [
       "┏━━━━━━━━━━━━━━━━━━━━━━━━━━━━━━━━━┳━━━━━━━━━━━━━━━━━━━━━━━━┳━━━━━━━━━━━━━━━┓\n",
       "┃\u001B[1m \u001B[0m\u001B[1mLayer (type)                   \u001B[0m\u001B[1m \u001B[0m┃\u001B[1m \u001B[0m\u001B[1mOutput Shape          \u001B[0m\u001B[1m \u001B[0m┃\u001B[1m \u001B[0m\u001B[1m      Param #\u001B[0m\u001B[1m \u001B[0m┃\n",
       "┡━━━━━━━━━━━━━━━━━━━━━━━━━━━━━━━━━╇━━━━━━━━━━━━━━━━━━━━━━━━╇━━━━━━━━━━━━━━━┩\n",
       "│ text_vectorization_2            │ ?                      │   \u001B[38;5;34m0\u001B[0m (unbuilt) │\n",
       "│ (\u001B[38;5;33mTextVectorization\u001B[0m)             │                        │               │\n",
       "├─────────────────────────────────┼────────────────────────┼───────────────┤\n",
       "│ dense_8 (\u001B[38;5;33mDense\u001B[0m)                 │ ?                      │   \u001B[38;5;34m0\u001B[0m (unbuilt) │\n",
       "├─────────────────────────────────┼────────────────────────┼───────────────┤\n",
       "│ dropout_4 (\u001B[38;5;33mDropout\u001B[0m)             │ ?                      │             \u001B[38;5;34m0\u001B[0m │\n",
       "├─────────────────────────────────┼────────────────────────┼───────────────┤\n",
       "│ dense_9 (\u001B[38;5;33mDense\u001B[0m)                 │ ?                      │   \u001B[38;5;34m0\u001B[0m (unbuilt) │\n",
       "├─────────────────────────────────┼────────────────────────┼───────────────┤\n",
       "│ dropout_5 (\u001B[38;5;33mDropout\u001B[0m)             │ ?                      │             \u001B[38;5;34m0\u001B[0m │\n",
       "├─────────────────────────────────┼────────────────────────┼───────────────┤\n",
       "│ dense_10 (\u001B[38;5;33mDense\u001B[0m)                │ ?                      │   \u001B[38;5;34m0\u001B[0m (unbuilt) │\n",
       "├─────────────────────────────────┼────────────────────────┼───────────────┤\n",
       "│ dense_11 (\u001B[38;5;33mDense\u001B[0m)                │ ?                      │   \u001B[38;5;34m0\u001B[0m (unbuilt) │\n",
       "└─────────────────────────────────┴────────────────────────┴───────────────┘\n"
      ],
      "text/html": [
       "<pre style=\"white-space:pre;overflow-x:auto;line-height:normal;font-family:Menlo,'DejaVu Sans Mono',consolas,'Courier New',monospace\">┏━━━━━━━━━━━━━━━━━━━━━━━━━━━━━━━━━┳━━━━━━━━━━━━━━━━━━━━━━━━┳━━━━━━━━━━━━━━━┓\n",
       "┃<span style=\"font-weight: bold\"> Layer (type)                    </span>┃<span style=\"font-weight: bold\"> Output Shape           </span>┃<span style=\"font-weight: bold\">       Param # </span>┃\n",
       "┡━━━━━━━━━━━━━━━━━━━━━━━━━━━━━━━━━╇━━━━━━━━━━━━━━━━━━━━━━━━╇━━━━━━━━━━━━━━━┩\n",
       "│ text_vectorization_2            │ ?                      │   <span style=\"color: #00af00; text-decoration-color: #00af00\">0</span> (unbuilt) │\n",
       "│ (<span style=\"color: #0087ff; text-decoration-color: #0087ff\">TextVectorization</span>)             │                        │               │\n",
       "├─────────────────────────────────┼────────────────────────┼───────────────┤\n",
       "│ dense_8 (<span style=\"color: #0087ff; text-decoration-color: #0087ff\">Dense</span>)                 │ ?                      │   <span style=\"color: #00af00; text-decoration-color: #00af00\">0</span> (unbuilt) │\n",
       "├─────────────────────────────────┼────────────────────────┼───────────────┤\n",
       "│ dropout_4 (<span style=\"color: #0087ff; text-decoration-color: #0087ff\">Dropout</span>)             │ ?                      │             <span style=\"color: #00af00; text-decoration-color: #00af00\">0</span> │\n",
       "├─────────────────────────────────┼────────────────────────┼───────────────┤\n",
       "│ dense_9 (<span style=\"color: #0087ff; text-decoration-color: #0087ff\">Dense</span>)                 │ ?                      │   <span style=\"color: #00af00; text-decoration-color: #00af00\">0</span> (unbuilt) │\n",
       "├─────────────────────────────────┼────────────────────────┼───────────────┤\n",
       "│ dropout_5 (<span style=\"color: #0087ff; text-decoration-color: #0087ff\">Dropout</span>)             │ ?                      │             <span style=\"color: #00af00; text-decoration-color: #00af00\">0</span> │\n",
       "├─────────────────────────────────┼────────────────────────┼───────────────┤\n",
       "│ dense_10 (<span style=\"color: #0087ff; text-decoration-color: #0087ff\">Dense</span>)                │ ?                      │   <span style=\"color: #00af00; text-decoration-color: #00af00\">0</span> (unbuilt) │\n",
       "├─────────────────────────────────┼────────────────────────┼───────────────┤\n",
       "│ dense_11 (<span style=\"color: #0087ff; text-decoration-color: #0087ff\">Dense</span>)                │ ?                      │   <span style=\"color: #00af00; text-decoration-color: #00af00\">0</span> (unbuilt) │\n",
       "└─────────────────────────────────┴────────────────────────┴───────────────┘\n",
       "</pre>\n"
      ]
     },
     "metadata": {},
     "output_type": "display_data"
    },
    {
     "data": {
      "text/plain": [
       "\u001B[1m Total params: \u001B[0m\u001B[38;5;34m0\u001B[0m (0.00 B)\n"
      ],
      "text/html": [
       "<pre style=\"white-space:pre;overflow-x:auto;line-height:normal;font-family:Menlo,'DejaVu Sans Mono',consolas,'Courier New',monospace\"><span style=\"font-weight: bold\"> Total params: </span><span style=\"color: #00af00; text-decoration-color: #00af00\">0</span> (0.00 B)\n",
       "</pre>\n"
      ]
     },
     "metadata": {},
     "output_type": "display_data"
    },
    {
     "data": {
      "text/plain": [
       "\u001B[1m Trainable params: \u001B[0m\u001B[38;5;34m0\u001B[0m (0.00 B)\n"
      ],
      "text/html": [
       "<pre style=\"white-space:pre;overflow-x:auto;line-height:normal;font-family:Menlo,'DejaVu Sans Mono',consolas,'Courier New',monospace\"><span style=\"font-weight: bold\"> Trainable params: </span><span style=\"color: #00af00; text-decoration-color: #00af00\">0</span> (0.00 B)\n",
       "</pre>\n"
      ]
     },
     "metadata": {},
     "output_type": "display_data"
    },
    {
     "data": {
      "text/plain": [
       "\u001B[1m Non-trainable params: \u001B[0m\u001B[38;5;34m0\u001B[0m (0.00 B)\n"
      ],
      "text/html": [
       "<pre style=\"white-space:pre;overflow-x:auto;line-height:normal;font-family:Menlo,'DejaVu Sans Mono',consolas,'Courier New',monospace\"><span style=\"font-weight: bold\"> Non-trainable params: </span><span style=\"color: #00af00; text-decoration-color: #00af00\">0</span> (0.00 B)\n",
       "</pre>\n"
      ]
     },
     "metadata": {},
     "output_type": "display_data"
    }
   ],
   "execution_count": 19
  },
  {
   "metadata": {
    "ExecuteTime": {
     "end_time": "2025-03-09T18:01:22.834884Z",
     "start_time": "2025-03-09T18:01:22.813647Z"
    }
   },
   "cell_type": "code",
   "source": [
    "model.compile(\n",
    "optimizer = \"adam\",\n",
    "loss = \"binary_crossentropy\",\n",
    "metrics = [\"accuracy\"]\n",
    ")"
   ],
   "id": "5640e5f260db49ca",
   "outputs": [],
   "execution_count": 20
  },
  {
   "metadata": {
    "ExecuteTime": {
     "end_time": "2025-03-09T18:04:06.123434Z",
     "start_time": "2025-03-09T18:01:25.960741Z"
    }
   },
   "cell_type": "code",
   "source": [
    "results = model.fit(\n",
    "train_dataset,\n",
    "epochs= 20,\n",
    "batch_size = 32,\n",
    "validation_data = validation_dataset\n",
    ")"
   ],
   "id": "cad0ae2e472debd",
   "outputs": [
    {
     "name": "stdout",
     "output_type": "stream",
     "text": [
      "Epoch 1/20\n",
      "\u001B[1m875/875\u001B[0m \u001B[32m━━━━━━━━━━━━━━━━━━━━\u001B[0m\u001B[37m\u001B[0m \u001B[1m9s\u001B[0m 8ms/step - accuracy: 0.5244 - loss: 1.1398 - val_accuracy: 0.5421 - val_loss: 0.6854\n",
      "Epoch 2/20\n",
      "\u001B[1m875/875\u001B[0m \u001B[32m━━━━━━━━━━━━━━━━━━━━\u001B[0m\u001B[37m\u001B[0m \u001B[1m8s\u001B[0m 9ms/step - accuracy: 0.5468 - loss: 0.7051 - val_accuracy: 0.5653 - val_loss: 0.6762\n",
      "Epoch 3/20\n",
      "\u001B[1m875/875\u001B[0m \u001B[32m━━━━━━━━━━━━━━━━━━━━\u001B[0m\u001B[37m\u001B[0m \u001B[1m8s\u001B[0m 9ms/step - accuracy: 0.5481 - loss: 0.6872 - val_accuracy: 0.5662 - val_loss: 0.6763\n",
      "Epoch 4/20\n",
      "\u001B[1m875/875\u001B[0m \u001B[32m━━━━━━━━━━━━━━━━━━━━\u001B[0m\u001B[37m\u001B[0m \u001B[1m8s\u001B[0m 9ms/step - accuracy: 0.5687 - loss: 0.6795 - val_accuracy: 0.5697 - val_loss: 0.6761\n",
      "Epoch 5/20\n",
      "\u001B[1m875/875\u001B[0m \u001B[32m━━━━━━━━━━━━━━━━━━━━\u001B[0m\u001B[37m\u001B[0m \u001B[1m9s\u001B[0m 10ms/step - accuracy: 0.5718 - loss: 0.6779 - val_accuracy: 0.5752 - val_loss: 0.6742\n",
      "Epoch 6/20\n",
      "\u001B[1m875/875\u001B[0m \u001B[32m━━━━━━━━━━━━━━━━━━━━\u001B[0m\u001B[37m\u001B[0m \u001B[1m8s\u001B[0m 9ms/step - accuracy: 0.5778 - loss: 0.6735 - val_accuracy: 0.5725 - val_loss: 0.6744\n",
      "Epoch 7/20\n",
      "\u001B[1m875/875\u001B[0m \u001B[32m━━━━━━━━━━━━━━━━━━━━\u001B[0m\u001B[37m\u001B[0m \u001B[1m8s\u001B[0m 9ms/step - accuracy: 0.5791 - loss: 0.6718 - val_accuracy: 0.5740 - val_loss: 0.6737\n",
      "Epoch 8/20\n",
      "\u001B[1m875/875\u001B[0m \u001B[32m━━━━━━━━━━━━━━━━━━━━\u001B[0m\u001B[37m\u001B[0m \u001B[1m8s\u001B[0m 9ms/step - accuracy: 0.5842 - loss: 0.6705 - val_accuracy: 0.5759 - val_loss: 0.6747\n",
      "Epoch 9/20\n",
      "\u001B[1m875/875\u001B[0m \u001B[32m━━━━━━━━━━━━━━━━━━━━\u001B[0m\u001B[37m\u001B[0m \u001B[1m8s\u001B[0m 9ms/step - accuracy: 0.5885 - loss: 0.6695 - val_accuracy: 0.5787 - val_loss: 0.6737\n",
      "Epoch 10/20\n",
      "\u001B[1m875/875\u001B[0m \u001B[32m━━━━━━━━━━━━━━━━━━━━\u001B[0m\u001B[37m\u001B[0m \u001B[1m8s\u001B[0m 9ms/step - accuracy: 0.5897 - loss: 0.6676 - val_accuracy: 0.5720 - val_loss: 0.6753\n",
      "Epoch 11/20\n",
      "\u001B[1m875/875\u001B[0m \u001B[32m━━━━━━━━━━━━━━━━━━━━\u001B[0m\u001B[37m\u001B[0m \u001B[1m8s\u001B[0m 9ms/step - accuracy: 0.5936 - loss: 0.6652 - val_accuracy: 0.5704 - val_loss: 0.6747\n",
      "Epoch 12/20\n",
      "\u001B[1m875/875\u001B[0m \u001B[32m━━━━━━━━━━━━━━━━━━━━\u001B[0m\u001B[37m\u001B[0m \u001B[1m8s\u001B[0m 9ms/step - accuracy: 0.5920 - loss: 0.6641 - val_accuracy: 0.5739 - val_loss: 0.6759\n",
      "Epoch 13/20\n",
      "\u001B[1m875/875\u001B[0m \u001B[32m━━━━━━━━━━━━━━━━━━━━\u001B[0m\u001B[37m\u001B[0m \u001B[1m8s\u001B[0m 9ms/step - accuracy: 0.6001 - loss: 0.6587 - val_accuracy: 0.5709 - val_loss: 0.6779\n",
      "Epoch 14/20\n",
      "\u001B[1m875/875\u001B[0m \u001B[32m━━━━━━━━━━━━━━━━━━━━\u001B[0m\u001B[37m\u001B[0m \u001B[1m8s\u001B[0m 9ms/step - accuracy: 0.6034 - loss: 0.6562 - val_accuracy: 0.5732 - val_loss: 0.6757\n",
      "Epoch 15/20\n",
      "\u001B[1m875/875\u001B[0m \u001B[32m━━━━━━━━━━━━━━━━━━━━\u001B[0m\u001B[37m\u001B[0m \u001B[1m8s\u001B[0m 9ms/step - accuracy: 0.6046 - loss: 0.6550 - val_accuracy: 0.5764 - val_loss: 0.6748\n",
      "Epoch 16/20\n",
      "\u001B[1m875/875\u001B[0m \u001B[32m━━━━━━━━━━━━━━━━━━━━\u001B[0m\u001B[37m\u001B[0m \u001B[1m8s\u001B[0m 9ms/step - accuracy: 0.6158 - loss: 0.6506 - val_accuracy: 0.5759 - val_loss: 0.6767\n",
      "Epoch 17/20\n",
      "\u001B[1m875/875\u001B[0m \u001B[32m━━━━━━━━━━━━━━━━━━━━\u001B[0m\u001B[37m\u001B[0m \u001B[1m8s\u001B[0m 9ms/step - accuracy: 0.6125 - loss: 0.6499 - val_accuracy: 0.5790 - val_loss: 0.6751\n",
      "Epoch 18/20\n",
      "\u001B[1m875/875\u001B[0m \u001B[32m━━━━━━━━━━━━━━━━━━━━\u001B[0m\u001B[37m\u001B[0m \u001B[1m8s\u001B[0m 9ms/step - accuracy: 0.6157 - loss: 0.6489 - val_accuracy: 0.5777 - val_loss: 0.6778\n",
      "Epoch 19/20\n",
      "\u001B[1m875/875\u001B[0m \u001B[32m━━━━━━━━━━━━━━━━━━━━\u001B[0m\u001B[37m\u001B[0m \u001B[1m8s\u001B[0m 9ms/step - accuracy: 0.6177 - loss: 0.6467 - val_accuracy: 0.5734 - val_loss: 0.6777\n",
      "Epoch 20/20\n",
      "\u001B[1m875/875\u001B[0m \u001B[32m━━━━━━━━━━━━━━━━━━━━\u001B[0m\u001B[37m\u001B[0m \u001B[1m8s\u001B[0m 9ms/step - accuracy: 0.6216 - loss: 0.6424 - val_accuracy: 0.5739 - val_loss: 0.6793\n"
     ]
    }
   ],
   "execution_count": 21
  },
  {
   "metadata": {
    "ExecuteTime": {
     "end_time": "2025-03-09T18:06:07.079509Z",
     "start_time": "2025-03-09T18:06:06.779640Z"
    }
   },
   "cell_type": "code",
   "source": [
    "loss, accuracy = model.evaluate(test_dataset)\n",
    "print(f\"Loss: {loss}, Accuracy: {accuracy}\")"
   ],
   "id": "ece7f8fd948cb276",
   "outputs": [
    {
     "name": "stdout",
     "output_type": "stream",
     "text": [
      "\u001B[1m188/188\u001B[0m \u001B[32m━━━━━━━━━━━━━━━━━━━━\u001B[0m\u001B[37m\u001B[0m \u001B[1m0s\u001B[0m 1ms/step - accuracy: 0.5926 - loss: 0.6694\n",
      "Loss: 0.6711515188217163, Accuracy: 0.5866023898124695\n"
     ]
    }
   ],
   "execution_count": 22
  }
 ],
 "metadata": {
  "kernelspec": {
   "display_name": "Python 3",
   "language": "python",
   "name": "python3"
  },
  "language_info": {
   "codemirror_mode": {
    "name": "ipython",
    "version": 2
   },
   "file_extension": ".py",
   "mimetype": "text/x-python",
   "name": "python",
   "nbconvert_exporter": "python",
   "pygments_lexer": "ipython2",
   "version": "2.7.6"
  }
 },
 "nbformat": 4,
 "nbformat_minor": 5
}
