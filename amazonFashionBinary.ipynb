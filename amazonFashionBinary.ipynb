{
 "cells": [
  {
   "metadata": {},
   "cell_type": "markdown",
   "source": [
    "# Amazon Fashion Binary\n",
    "\n",
    "Il progetto è volto allo sviluppo di un modello ML per svolgere sentiment analysis su recensioni di utenti amazon al fine di classificarle come positive o negative."
   ],
   "id": "b4a16bcbf83af509"
  },
  {
   "metadata": {
    "ExecuteTime": {
     "end_time": "2025-03-09T23:22:34.880011Z",
     "start_time": "2025-03-09T23:22:25.946087Z"
    }
   },
   "cell_type": "code",
   "source": [
    "import tensorflow as tf\n",
    "from tensorflow import keras\n",
    "from keras import models, layers"
   ],
   "id": "24678186c6705341",
   "outputs": [],
   "execution_count": 1
  },
  {
   "metadata": {},
   "cell_type": "markdown",
   "source": [
    "## Dataset\n",
    "Il dataset è composto da 20000 recensioni positive e 20000 recensioni negative. Verranno provate varie configurazioni del dataset: la prima consiste nel dataset completo senza apportare nessuna modifica alle recensioni, nella seconda le recensioni verranno modificate in base alla loro lunghezza e alla dimensione del vocabolario."
   ],
   "id": "81ec1fdbce83c8b2"
  },
  {
   "metadata": {
    "ExecuteTime": {
     "end_time": "2025-03-09T23:22:34.901423Z",
     "start_time": "2025-03-09T23:22:34.895454Z"
    }
   },
   "cell_type": "code",
   "source": [
    "#path della directory deel dataset\n",
    "directory_path = \"./reviews\""
   ],
   "id": "15132afa70468fd0",
   "outputs": [],
   "execution_count": 2
  },
  {
   "metadata": {},
   "cell_type": "markdown",
   "source": "Il dataset viene dapprima diviso in training set (70%), validation set (15%) e test set (15%)",
   "id": "d39084559729dc4d"
  },
  {
   "cell_type": "code",
   "id": "initial_id",
   "metadata": {
    "collapsed": true,
    "ExecuteTime": {
     "end_time": "2025-03-09T23:22:41.023105Z",
     "start_time": "2025-03-09T23:22:34.916696Z"
    }
   },
   "source": [
    "train_dataset, test_validation_dataset = tf.keras.preprocessing.text_dataset_from_directory(\n",
    "    directory_path,\n",
    "    labels='inferred',\n",
    "    label_mode='int',\n",
    "    class_names=None,\n",
    "    batch_size=32,\n",
    "    max_length=None,\n",
    "    shuffle=True,\n",
    "    seed=42,\n",
    "    validation_split=0.3,\n",
    "    subset=\"both\",\n",
    "    follow_links=False,\n",
    "    verbose=True\n",
    ")\n",
    "test_dataset, validation_dataset = tf.keras.utils.split_dataset(\n",
    "    test_validation_dataset, left_size=0.5, shuffle=True, seed=42\n",
    ")\n",
    "X_train = train_dataset.map(lambda x, y: x)\n",
    "X_test = test_dataset.map(lambda x, y: x)\n",
    "X_validation = validation_dataset.map(lambda x, y: x)"
   ],
   "outputs": [
    {
     "name": "stdout",
     "output_type": "stream",
     "text": [
      "Found 40000 files belonging to 2 classes.\n",
      "Using 28000 files for training.\n",
      "Using 12000 files for validation.\n"
     ]
    }
   ],
   "execution_count": 3
  },
  {
   "metadata": {},
   "cell_type": "markdown",
   "source": "Vengono calcolate la media e la varianza della lunghezza delle recensioni: questi dati verranno utilizzati per scegliere le configurazioni del dataset su cui il modello opererà.",
   "id": "1374f81b8c6264e3"
  },
  {
   "metadata": {
    "ExecuteTime": {
     "end_time": "2025-03-09T23:22:48.234743Z",
     "start_time": "2025-03-09T23:22:41.520140Z"
    }
   },
   "cell_type": "code",
   "source": [
    "#lunghezza media delle recensioni\n",
    "DATASET_SIZE = 40000\n",
    "len_strings = []\n",
    "\n",
    "for batch in X_train:\n",
    "    n = batch.numpy()\n",
    "    for data in n:\n",
    "        split = data.split()\n",
    "        len_strings.append(len(split))\n",
    "\n",
    "for batch in X_test:\n",
    "    n = batch.numpy()\n",
    "    for data in n:\n",
    "        split = data.split()\n",
    "        len_strings.append(len(split))\n",
    "\n",
    "for batch in X_validation:\n",
    "    n = batch.numpy()\n",
    "    for data in n:\n",
    "        split = data.split()\n",
    "        len_strings.append(len(split))\n",
    "\n",
    "len_mean = sum(len_strings) / DATASET_SIZE\n",
    "len_variance = sum((len_text - len_mean) ** 2 for len_text in len_strings) / DATASET_SIZE\n",
    "\n",
    "print(\"Media: \" + str(len_mean) + \"\\nVarianza: \" + str(len_variance))"
   ],
   "id": "cb4a110af5e1ccd7",
   "outputs": [
    {
     "name": "stdout",
     "output_type": "stream",
     "text": [
      "Media: 33.1579\n",
      "Varianza: 1501.74106759\n"
     ]
    }
   ],
   "execution_count": 4
  },
  {
   "metadata": {},
   "cell_type": "markdown",
   "source": [
    "# Prima configurazione\n",
    "\n",
    "Nella tokenizzazione delle recensione vengono scelte una size per il vocabolario pari a 30 e una lunghezza massima delle recensioni di 20 (sotto la media)."
   ],
   "id": "2210236cc1470d20"
  },
  {
   "metadata": {
    "ExecuteTime": {
     "end_time": "2025-03-09T23:22:55.335853Z",
     "start_time": "2025-03-09T23:22:48.261100Z"
    }
   },
   "cell_type": "code",
   "source": [
    "MAX_SEQUENCE_LENGTH = 20\n",
    "VOCAB_SIZE = 30\n",
    "vectorizationLayer = tf.keras.layers.TextVectorization(\n",
    "    max_tokens=VOCAB_SIZE,\n",
    "    output_mode='int',\n",
    "    output_sequence_length=MAX_SEQUENCE_LENGTH)\n",
    "vectorizationLayer.adapt(X_train)"
   ],
   "id": "7f80320231a5bf0e",
   "outputs": [],
   "execution_count": 5
  },
  {
   "metadata": {
    "ExecuteTime": {
     "end_time": "2025-03-09T23:22:55.348946Z",
     "start_time": "2025-03-09T23:22:55.343780Z"
    }
   },
   "cell_type": "code",
   "source": "model = models.Sequential()",
   "id": "6a5617a67dcdbc1c",
   "outputs": [],
   "execution_count": 6
  },
  {
   "metadata": {
    "ExecuteTime": {
     "end_time": "2025-03-09T23:22:55.418741Z",
     "start_time": "2025-03-09T23:22:55.364409Z"
    }
   },
   "cell_type": "code",
   "source": [
    "# Input - Layer\n",
    "model.add(vectorizationLayer)\n",
    "# Hidden - Layers\n",
    "model.add(layers.Dense(50, activation = \"relu\"))\n",
    "model.add(layers.Dropout(0.3))\n",
    "model.add(layers.Dense(50, activation = \"relu\"))\n",
    "model.add(layers.Dropout(0.2))\n",
    "model.add(layers.Dense(50, activation = \"relu\"))\n",
    "# Output- Layer\n",
    "model.add(layers.Dense(1, activation = \"sigmoid\"))\n",
    "model.summary()"
   ],
   "id": "760cab489721a437",
   "outputs": [
    {
     "data": {
      "text/plain": [
       "\u001B[1mModel: \"sequential\"\u001B[0m\n"
      ],
      "text/html": [
       "<pre style=\"white-space:pre;overflow-x:auto;line-height:normal;font-family:Menlo,'DejaVu Sans Mono',consolas,'Courier New',monospace\"><span style=\"font-weight: bold\">Model: \"sequential\"</span>\n",
       "</pre>\n"
      ]
     },
     "metadata": {},
     "output_type": "display_data"
    },
    {
     "data": {
      "text/plain": [
       "┏━━━━━━━━━━━━━━━━━━━━━━━━━━━━━━━━━┳━━━━━━━━━━━━━━━━━━━━━━━━┳━━━━━━━━━━━━━━━┓\n",
       "┃\u001B[1m \u001B[0m\u001B[1mLayer (type)                   \u001B[0m\u001B[1m \u001B[0m┃\u001B[1m \u001B[0m\u001B[1mOutput Shape          \u001B[0m\u001B[1m \u001B[0m┃\u001B[1m \u001B[0m\u001B[1m      Param #\u001B[0m\u001B[1m \u001B[0m┃\n",
       "┡━━━━━━━━━━━━━━━━━━━━━━━━━━━━━━━━━╇━━━━━━━━━━━━━━━━━━━━━━━━╇━━━━━━━━━━━━━━━┩\n",
       "│ text_vectorization              │ ?                      │   \u001B[38;5;34m0\u001B[0m (unbuilt) │\n",
       "│ (\u001B[38;5;33mTextVectorization\u001B[0m)             │                        │               │\n",
       "├─────────────────────────────────┼────────────────────────┼───────────────┤\n",
       "│ dense (\u001B[38;5;33mDense\u001B[0m)                   │ ?                      │   \u001B[38;5;34m0\u001B[0m (unbuilt) │\n",
       "├─────────────────────────────────┼────────────────────────┼───────────────┤\n",
       "│ dropout (\u001B[38;5;33mDropout\u001B[0m)               │ ?                      │             \u001B[38;5;34m0\u001B[0m │\n",
       "├─────────────────────────────────┼────────────────────────┼───────────────┤\n",
       "│ dense_1 (\u001B[38;5;33mDense\u001B[0m)                 │ ?                      │   \u001B[38;5;34m0\u001B[0m (unbuilt) │\n",
       "├─────────────────────────────────┼────────────────────────┼───────────────┤\n",
       "│ dropout_1 (\u001B[38;5;33mDropout\u001B[0m)             │ ?                      │             \u001B[38;5;34m0\u001B[0m │\n",
       "├─────────────────────────────────┼────────────────────────┼───────────────┤\n",
       "│ dense_2 (\u001B[38;5;33mDense\u001B[0m)                 │ ?                      │   \u001B[38;5;34m0\u001B[0m (unbuilt) │\n",
       "├─────────────────────────────────┼────────────────────────┼───────────────┤\n",
       "│ dense_3 (\u001B[38;5;33mDense\u001B[0m)                 │ ?                      │   \u001B[38;5;34m0\u001B[0m (unbuilt) │\n",
       "└─────────────────────────────────┴────────────────────────┴───────────────┘\n"
      ],
      "text/html": [
       "<pre style=\"white-space:pre;overflow-x:auto;line-height:normal;font-family:Menlo,'DejaVu Sans Mono',consolas,'Courier New',monospace\">┏━━━━━━━━━━━━━━━━━━━━━━━━━━━━━━━━━┳━━━━━━━━━━━━━━━━━━━━━━━━┳━━━━━━━━━━━━━━━┓\n",
       "┃<span style=\"font-weight: bold\"> Layer (type)                    </span>┃<span style=\"font-weight: bold\"> Output Shape           </span>┃<span style=\"font-weight: bold\">       Param # </span>┃\n",
       "┡━━━━━━━━━━━━━━━━━━━━━━━━━━━━━━━━━╇━━━━━━━━━━━━━━━━━━━━━━━━╇━━━━━━━━━━━━━━━┩\n",
       "│ text_vectorization              │ ?                      │   <span style=\"color: #00af00; text-decoration-color: #00af00\">0</span> (unbuilt) │\n",
       "│ (<span style=\"color: #0087ff; text-decoration-color: #0087ff\">TextVectorization</span>)             │                        │               │\n",
       "├─────────────────────────────────┼────────────────────────┼───────────────┤\n",
       "│ dense (<span style=\"color: #0087ff; text-decoration-color: #0087ff\">Dense</span>)                   │ ?                      │   <span style=\"color: #00af00; text-decoration-color: #00af00\">0</span> (unbuilt) │\n",
       "├─────────────────────────────────┼────────────────────────┼───────────────┤\n",
       "│ dropout (<span style=\"color: #0087ff; text-decoration-color: #0087ff\">Dropout</span>)               │ ?                      │             <span style=\"color: #00af00; text-decoration-color: #00af00\">0</span> │\n",
       "├─────────────────────────────────┼────────────────────────┼───────────────┤\n",
       "│ dense_1 (<span style=\"color: #0087ff; text-decoration-color: #0087ff\">Dense</span>)                 │ ?                      │   <span style=\"color: #00af00; text-decoration-color: #00af00\">0</span> (unbuilt) │\n",
       "├─────────────────────────────────┼────────────────────────┼───────────────┤\n",
       "│ dropout_1 (<span style=\"color: #0087ff; text-decoration-color: #0087ff\">Dropout</span>)             │ ?                      │             <span style=\"color: #00af00; text-decoration-color: #00af00\">0</span> │\n",
       "├─────────────────────────────────┼────────────────────────┼───────────────┤\n",
       "│ dense_2 (<span style=\"color: #0087ff; text-decoration-color: #0087ff\">Dense</span>)                 │ ?                      │   <span style=\"color: #00af00; text-decoration-color: #00af00\">0</span> (unbuilt) │\n",
       "├─────────────────────────────────┼────────────────────────┼───────────────┤\n",
       "│ dense_3 (<span style=\"color: #0087ff; text-decoration-color: #0087ff\">Dense</span>)                 │ ?                      │   <span style=\"color: #00af00; text-decoration-color: #00af00\">0</span> (unbuilt) │\n",
       "└─────────────────────────────────┴────────────────────────┴───────────────┘\n",
       "</pre>\n"
      ]
     },
     "metadata": {},
     "output_type": "display_data"
    },
    {
     "data": {
      "text/plain": [
       "\u001B[1m Total params: \u001B[0m\u001B[38;5;34m0\u001B[0m (0.00 B)\n"
      ],
      "text/html": [
       "<pre style=\"white-space:pre;overflow-x:auto;line-height:normal;font-family:Menlo,'DejaVu Sans Mono',consolas,'Courier New',monospace\"><span style=\"font-weight: bold\"> Total params: </span><span style=\"color: #00af00; text-decoration-color: #00af00\">0</span> (0.00 B)\n",
       "</pre>\n"
      ]
     },
     "metadata": {},
     "output_type": "display_data"
    },
    {
     "data": {
      "text/plain": [
       "\u001B[1m Trainable params: \u001B[0m\u001B[38;5;34m0\u001B[0m (0.00 B)\n"
      ],
      "text/html": [
       "<pre style=\"white-space:pre;overflow-x:auto;line-height:normal;font-family:Menlo,'DejaVu Sans Mono',consolas,'Courier New',monospace\"><span style=\"font-weight: bold\"> Trainable params: </span><span style=\"color: #00af00; text-decoration-color: #00af00\">0</span> (0.00 B)\n",
       "</pre>\n"
      ]
     },
     "metadata": {},
     "output_type": "display_data"
    },
    {
     "data": {
      "text/plain": [
       "\u001B[1m Non-trainable params: \u001B[0m\u001B[38;5;34m0\u001B[0m (0.00 B)\n"
      ],
      "text/html": [
       "<pre style=\"white-space:pre;overflow-x:auto;line-height:normal;font-family:Menlo,'DejaVu Sans Mono',consolas,'Courier New',monospace\"><span style=\"font-weight: bold\"> Non-trainable params: </span><span style=\"color: #00af00; text-decoration-color: #00af00\">0</span> (0.00 B)\n",
       "</pre>\n"
      ]
     },
     "metadata": {},
     "output_type": "display_data"
    }
   ],
   "execution_count": 7
  },
  {
   "metadata": {
    "ExecuteTime": {
     "end_time": "2025-03-09T23:22:55.495631Z",
     "start_time": "2025-03-09T23:22:55.465156Z"
    }
   },
   "cell_type": "code",
   "source": [
    "model.compile(\n",
    "optimizer = \"adam\",\n",
    "loss = \"binary_crossentropy\",\n",
    "metrics = [\"accuracy\"]\n",
    ")"
   ],
   "id": "343be83253473b62",
   "outputs": [],
   "execution_count": 8
  },
  {
   "metadata": {
    "ExecuteTime": {
     "end_time": "2025-03-09T23:25:28.761232Z",
     "start_time": "2025-03-09T23:22:55.509664Z"
    }
   },
   "cell_type": "code",
   "source": [
    "model.fit(\n",
    "train_dataset,\n",
    "epochs= 20,\n",
    "batch_size = 32,\n",
    "validation_data = validation_dataset\n",
    ")"
   ],
   "id": "e2cf0ff7e2d2673",
   "outputs": [
    {
     "name": "stdout",
     "output_type": "stream",
     "text": [
      "Epoch 1/20\n",
      "\u001B[1m875/875\u001B[0m \u001B[32m━━━━━━━━━━━━━━━━━━━━\u001B[0m\u001B[37m\u001B[0m \u001B[1m10s\u001B[0m 9ms/step - accuracy: 0.5307 - loss: 0.8173 - val_accuracy: 0.5470 - val_loss: 0.6885\n",
      "Epoch 2/20\n",
      "\u001B[1m875/875\u001B[0m \u001B[32m━━━━━━━━━━━━━━━━━━━━\u001B[0m\u001B[37m\u001B[0m \u001B[1m8s\u001B[0m 9ms/step - accuracy: 0.5447 - loss: 0.6921 - val_accuracy: 0.5511 - val_loss: 0.6853\n",
      "Epoch 3/20\n",
      "\u001B[1m875/875\u001B[0m \u001B[32m━━━━━━━━━━━━━━━━━━━━\u001B[0m\u001B[37m\u001B[0m \u001B[1m8s\u001B[0m 9ms/step - accuracy: 0.5538 - loss: 0.6870 - val_accuracy: 0.5531 - val_loss: 0.6829\n",
      "Epoch 4/20\n",
      "\u001B[1m875/875\u001B[0m \u001B[32m━━━━━━━━━━━━━━━━━━━━\u001B[0m\u001B[37m\u001B[0m \u001B[1m8s\u001B[0m 9ms/step - accuracy: 0.5693 - loss: 0.6820 - val_accuracy: 0.5617 - val_loss: 0.6802\n",
      "Epoch 5/20\n",
      "\u001B[1m875/875\u001B[0m \u001B[32m━━━━━━━━━━━━━━━━━━━━\u001B[0m\u001B[37m\u001B[0m \u001B[1m7s\u001B[0m 9ms/step - accuracy: 0.5705 - loss: 0.6782 - val_accuracy: 0.5652 - val_loss: 0.6787\n",
      "Epoch 6/20\n",
      "\u001B[1m875/875\u001B[0m \u001B[32m━━━━━━━━━━━━━━━━━━━━\u001B[0m\u001B[37m\u001B[0m \u001B[1m8s\u001B[0m 9ms/step - accuracy: 0.5721 - loss: 0.6780 - val_accuracy: 0.5683 - val_loss: 0.6771\n",
      "Epoch 7/20\n",
      "\u001B[1m875/875\u001B[0m \u001B[32m━━━━━━━━━━━━━━━━━━━━\u001B[0m\u001B[37m\u001B[0m \u001B[1m7s\u001B[0m 9ms/step - accuracy: 0.5747 - loss: 0.6759 - val_accuracy: 0.5642 - val_loss: 0.6782\n",
      "Epoch 8/20\n",
      "\u001B[1m875/875\u001B[0m \u001B[32m━━━━━━━━━━━━━━━━━━━━\u001B[0m\u001B[37m\u001B[0m \u001B[1m8s\u001B[0m 9ms/step - accuracy: 0.5799 - loss: 0.6744 - val_accuracy: 0.5689 - val_loss: 0.6770\n",
      "Epoch 9/20\n",
      "\u001B[1m875/875\u001B[0m \u001B[32m━━━━━━━━━━━━━━━━━━━━\u001B[0m\u001B[37m\u001B[0m \u001B[1m7s\u001B[0m 9ms/step - accuracy: 0.5794 - loss: 0.6736 - val_accuracy: 0.5653 - val_loss: 0.6757\n",
      "Epoch 10/20\n",
      "\u001B[1m875/875\u001B[0m \u001B[32m━━━━━━━━━━━━━━━━━━━━\u001B[0m\u001B[37m\u001B[0m \u001B[1m7s\u001B[0m 8ms/step - accuracy: 0.5821 - loss: 0.6738 - val_accuracy: 0.5702 - val_loss: 0.6749\n",
      "Epoch 11/20\n",
      "\u001B[1m875/875\u001B[0m \u001B[32m━━━━━━━━━━━━━━━━━━━━\u001B[0m\u001B[37m\u001B[0m \u001B[1m7s\u001B[0m 9ms/step - accuracy: 0.5845 - loss: 0.6731 - val_accuracy: 0.5715 - val_loss: 0.6756\n",
      "Epoch 12/20\n",
      "\u001B[1m875/875\u001B[0m \u001B[32m━━━━━━━━━━━━━━━━━━━━\u001B[0m\u001B[37m\u001B[0m \u001B[1m8s\u001B[0m 9ms/step - accuracy: 0.5855 - loss: 0.6726 - val_accuracy: 0.5707 - val_loss: 0.6755\n",
      "Epoch 13/20\n",
      "\u001B[1m875/875\u001B[0m \u001B[32m━━━━━━━━━━━━━━━━━━━━\u001B[0m\u001B[37m\u001B[0m \u001B[1m8s\u001B[0m 9ms/step - accuracy: 0.5868 - loss: 0.6699 - val_accuracy: 0.5729 - val_loss: 0.6751\n",
      "Epoch 14/20\n",
      "\u001B[1m875/875\u001B[0m \u001B[32m━━━━━━━━━━━━━━━━━━━━\u001B[0m\u001B[37m\u001B[0m \u001B[1m8s\u001B[0m 9ms/step - accuracy: 0.5864 - loss: 0.6698 - val_accuracy: 0.5720 - val_loss: 0.6745\n",
      "Epoch 15/20\n",
      "\u001B[1m875/875\u001B[0m \u001B[32m━━━━━━━━━━━━━━━━━━━━\u001B[0m\u001B[37m\u001B[0m \u001B[1m8s\u001B[0m 9ms/step - accuracy: 0.5878 - loss: 0.6695 - val_accuracy: 0.5750 - val_loss: 0.6747\n",
      "Epoch 16/20\n",
      "\u001B[1m875/875\u001B[0m \u001B[32m━━━━━━━━━━━━━━━━━━━━\u001B[0m\u001B[37m\u001B[0m \u001B[1m7s\u001B[0m 8ms/step - accuracy: 0.5938 - loss: 0.6687 - val_accuracy: 0.5725 - val_loss: 0.6742\n",
      "Epoch 17/20\n",
      "\u001B[1m875/875\u001B[0m \u001B[32m━━━━━━━━━━━━━━━━━━━━\u001B[0m\u001B[37m\u001B[0m \u001B[1m7s\u001B[0m 8ms/step - accuracy: 0.5934 - loss: 0.6684 - val_accuracy: 0.5740 - val_loss: 0.6748\n",
      "Epoch 18/20\n",
      "\u001B[1m875/875\u001B[0m \u001B[32m━━━━━━━━━━━━━━━━━━━━\u001B[0m\u001B[37m\u001B[0m \u001B[1m7s\u001B[0m 8ms/step - accuracy: 0.5880 - loss: 0.6674 - val_accuracy: 0.5734 - val_loss: 0.6743\n",
      "Epoch 19/20\n",
      "\u001B[1m875/875\u001B[0m \u001B[32m━━━━━━━━━━━━━━━━━━━━\u001B[0m\u001B[37m\u001B[0m \u001B[1m8s\u001B[0m 9ms/step - accuracy: 0.5909 - loss: 0.6691 - val_accuracy: 0.5774 - val_loss: 0.6749\n",
      "Epoch 20/20\n",
      "\u001B[1m875/875\u001B[0m \u001B[32m━━━━━━━━━━━━━━━━━━━━\u001B[0m\u001B[37m\u001B[0m \u001B[1m8s\u001B[0m 9ms/step - accuracy: 0.5954 - loss: 0.6677 - val_accuracy: 0.5772 - val_loss: 0.6741\n"
     ]
    },
    {
     "data": {
      "text/plain": [
       "<keras.src.callbacks.history.History at 0x24077bc13a0>"
      ]
     },
     "execution_count": 9,
     "metadata": {},
     "output_type": "execute_result"
    }
   ],
   "execution_count": 9
  },
  {
   "metadata": {
    "ExecuteTime": {
     "end_time": "2025-03-09T23:25:36.565117Z",
     "start_time": "2025-03-09T23:25:28.827202Z"
    }
   },
   "cell_type": "code",
   "source": [
    "loss, accuracy = model.evaluate(train_dataset)\n",
    "print(f\"Training set:\\nLoss: {loss}, Accuracy: {accuracy}\")\n",
    "loss, accuracy = model.evaluate(test_dataset)\n",
    "print(f\"Test set:\\nLoss: {loss}, Accuracy: {accuracy}\")"
   ],
   "id": "8db5ea6abaed6d7d",
   "outputs": [
    {
     "name": "stdout",
     "output_type": "stream",
     "text": [
      "\u001B[1m875/875\u001B[0m \u001B[32m━━━━━━━━━━━━━━━━━━━━\u001B[0m\u001B[37m\u001B[0m \u001B[1m7s\u001B[0m 8ms/step - accuracy: 0.6039 - loss: 0.6602\n",
      "Training set:\n",
      "Loss: 0.6578472852706909, Accuracy: 0.607285737991333\n",
      "\u001B[1m188/188\u001B[0m \u001B[32m━━━━━━━━━━━━━━━━━━━━\u001B[0m\u001B[37m\u001B[0m \u001B[1m0s\u001B[0m 2ms/step - accuracy: 0.5939 - loss: 0.6671\n",
      "Test set:\n",
      "Loss: 0.6672678589820862, Accuracy: 0.5885970592498779\n"
     ]
    }
   ],
   "execution_count": 10
  },
  {
   "metadata": {},
   "cell_type": "markdown",
   "source": [
    "## Seconda configurazione\n",
    "\n",
    "Nella tokenizzazione delle recensione vengono scelte una size per il vocabolario pari a 50 e una lunghezza massima delle recensioni di 35 (circa la media).\n"
   ],
   "id": "97eddc86909b4b3f"
  },
  {
   "metadata": {
    "ExecuteTime": {
     "end_time": "2025-03-09T23:25:44.127811Z",
     "start_time": "2025-03-09T23:25:36.568134Z"
    }
   },
   "cell_type": "code",
   "source": [
    "MAX_SEQUENCE_LENGTH = 35\n",
    "VOCAB_SIZE = 50\n",
    "vectorizationLayer = tf.keras.layers.TextVectorization(\n",
    "    max_tokens=VOCAB_SIZE,\n",
    "    output_mode='int',\n",
    "    output_sequence_length=MAX_SEQUENCE_LENGTH)\n",
    "vectorizationLayer.adapt(X_train)"
   ],
   "id": "c2252f9014d25f8a",
   "outputs": [],
   "execution_count": 11
  },
  {
   "metadata": {
    "ExecuteTime": {
     "end_time": "2025-03-09T23:25:44.145043Z",
     "start_time": "2025-03-09T23:25:44.138835Z"
    }
   },
   "cell_type": "code",
   "source": "model = models.Sequential()",
   "id": "4b0aa4a8a57adf8e",
   "outputs": [],
   "execution_count": 12
  },
  {
   "metadata": {
    "ExecuteTime": {
     "end_time": "2025-03-09T23:25:44.207856Z",
     "start_time": "2025-03-09T23:25:44.172482Z"
    }
   },
   "cell_type": "code",
   "source": [
    "# Input - Layer\n",
    "model.add(vectorizationLayer)\n",
    "# Hidden - Layers\n",
    "model.add(layers.Dense(50, activation = \"relu\"))\n",
    "model.add(layers.Dropout(0.3))\n",
    "model.add(layers.Dense(50, activation = \"relu\"))\n",
    "model.add(layers.Dropout(0.2))\n",
    "model.add(layers.Dense(50, activation = \"relu\"))\n",
    "# Output- Layer\n",
    "model.add(layers.Dense(1, activation = \"sigmoid\"))\n",
    "model.summary()"
   ],
   "id": "70ef0b663a8712e5",
   "outputs": [
    {
     "data": {
      "text/plain": [
       "\u001B[1mModel: \"sequential_1\"\u001B[0m\n"
      ],
      "text/html": [
       "<pre style=\"white-space:pre;overflow-x:auto;line-height:normal;font-family:Menlo,'DejaVu Sans Mono',consolas,'Courier New',monospace\"><span style=\"font-weight: bold\">Model: \"sequential_1\"</span>\n",
       "</pre>\n"
      ]
     },
     "metadata": {},
     "output_type": "display_data"
    },
    {
     "data": {
      "text/plain": [
       "┏━━━━━━━━━━━━━━━━━━━━━━━━━━━━━━━━━┳━━━━━━━━━━━━━━━━━━━━━━━━┳━━━━━━━━━━━━━━━┓\n",
       "┃\u001B[1m \u001B[0m\u001B[1mLayer (type)                   \u001B[0m\u001B[1m \u001B[0m┃\u001B[1m \u001B[0m\u001B[1mOutput Shape          \u001B[0m\u001B[1m \u001B[0m┃\u001B[1m \u001B[0m\u001B[1m      Param #\u001B[0m\u001B[1m \u001B[0m┃\n",
       "┡━━━━━━━━━━━━━━━━━━━━━━━━━━━━━━━━━╇━━━━━━━━━━━━━━━━━━━━━━━━╇━━━━━━━━━━━━━━━┩\n",
       "│ text_vectorization_1            │ ?                      │   \u001B[38;5;34m0\u001B[0m (unbuilt) │\n",
       "│ (\u001B[38;5;33mTextVectorization\u001B[0m)             │                        │               │\n",
       "├─────────────────────────────────┼────────────────────────┼───────────────┤\n",
       "│ dense_4 (\u001B[38;5;33mDense\u001B[0m)                 │ ?                      │   \u001B[38;5;34m0\u001B[0m (unbuilt) │\n",
       "├─────────────────────────────────┼────────────────────────┼───────────────┤\n",
       "│ dropout_2 (\u001B[38;5;33mDropout\u001B[0m)             │ ?                      │             \u001B[38;5;34m0\u001B[0m │\n",
       "├─────────────────────────────────┼────────────────────────┼───────────────┤\n",
       "│ dense_5 (\u001B[38;5;33mDense\u001B[0m)                 │ ?                      │   \u001B[38;5;34m0\u001B[0m (unbuilt) │\n",
       "├─────────────────────────────────┼────────────────────────┼───────────────┤\n",
       "│ dropout_3 (\u001B[38;5;33mDropout\u001B[0m)             │ ?                      │             \u001B[38;5;34m0\u001B[0m │\n",
       "├─────────────────────────────────┼────────────────────────┼───────────────┤\n",
       "│ dense_6 (\u001B[38;5;33mDense\u001B[0m)                 │ ?                      │   \u001B[38;5;34m0\u001B[0m (unbuilt) │\n",
       "├─────────────────────────────────┼────────────────────────┼───────────────┤\n",
       "│ dense_7 (\u001B[38;5;33mDense\u001B[0m)                 │ ?                      │   \u001B[38;5;34m0\u001B[0m (unbuilt) │\n",
       "└─────────────────────────────────┴────────────────────────┴───────────────┘\n"
      ],
      "text/html": [
       "<pre style=\"white-space:pre;overflow-x:auto;line-height:normal;font-family:Menlo,'DejaVu Sans Mono',consolas,'Courier New',monospace\">┏━━━━━━━━━━━━━━━━━━━━━━━━━━━━━━━━━┳━━━━━━━━━━━━━━━━━━━━━━━━┳━━━━━━━━━━━━━━━┓\n",
       "┃<span style=\"font-weight: bold\"> Layer (type)                    </span>┃<span style=\"font-weight: bold\"> Output Shape           </span>┃<span style=\"font-weight: bold\">       Param # </span>┃\n",
       "┡━━━━━━━━━━━━━━━━━━━━━━━━━━━━━━━━━╇━━━━━━━━━━━━━━━━━━━━━━━━╇━━━━━━━━━━━━━━━┩\n",
       "│ text_vectorization_1            │ ?                      │   <span style=\"color: #00af00; text-decoration-color: #00af00\">0</span> (unbuilt) │\n",
       "│ (<span style=\"color: #0087ff; text-decoration-color: #0087ff\">TextVectorization</span>)             │                        │               │\n",
       "├─────────────────────────────────┼────────────────────────┼───────────────┤\n",
       "│ dense_4 (<span style=\"color: #0087ff; text-decoration-color: #0087ff\">Dense</span>)                 │ ?                      │   <span style=\"color: #00af00; text-decoration-color: #00af00\">0</span> (unbuilt) │\n",
       "├─────────────────────────────────┼────────────────────────┼───────────────┤\n",
       "│ dropout_2 (<span style=\"color: #0087ff; text-decoration-color: #0087ff\">Dropout</span>)             │ ?                      │             <span style=\"color: #00af00; text-decoration-color: #00af00\">0</span> │\n",
       "├─────────────────────────────────┼────────────────────────┼───────────────┤\n",
       "│ dense_5 (<span style=\"color: #0087ff; text-decoration-color: #0087ff\">Dense</span>)                 │ ?                      │   <span style=\"color: #00af00; text-decoration-color: #00af00\">0</span> (unbuilt) │\n",
       "├─────────────────────────────────┼────────────────────────┼───────────────┤\n",
       "│ dropout_3 (<span style=\"color: #0087ff; text-decoration-color: #0087ff\">Dropout</span>)             │ ?                      │             <span style=\"color: #00af00; text-decoration-color: #00af00\">0</span> │\n",
       "├─────────────────────────────────┼────────────────────────┼───────────────┤\n",
       "│ dense_6 (<span style=\"color: #0087ff; text-decoration-color: #0087ff\">Dense</span>)                 │ ?                      │   <span style=\"color: #00af00; text-decoration-color: #00af00\">0</span> (unbuilt) │\n",
       "├─────────────────────────────────┼────────────────────────┼───────────────┤\n",
       "│ dense_7 (<span style=\"color: #0087ff; text-decoration-color: #0087ff\">Dense</span>)                 │ ?                      │   <span style=\"color: #00af00; text-decoration-color: #00af00\">0</span> (unbuilt) │\n",
       "└─────────────────────────────────┴────────────────────────┴───────────────┘\n",
       "</pre>\n"
      ]
     },
     "metadata": {},
     "output_type": "display_data"
    },
    {
     "data": {
      "text/plain": [
       "\u001B[1m Total params: \u001B[0m\u001B[38;5;34m0\u001B[0m (0.00 B)\n"
      ],
      "text/html": [
       "<pre style=\"white-space:pre;overflow-x:auto;line-height:normal;font-family:Menlo,'DejaVu Sans Mono',consolas,'Courier New',monospace\"><span style=\"font-weight: bold\"> Total params: </span><span style=\"color: #00af00; text-decoration-color: #00af00\">0</span> (0.00 B)\n",
       "</pre>\n"
      ]
     },
     "metadata": {},
     "output_type": "display_data"
    },
    {
     "data": {
      "text/plain": [
       "\u001B[1m Trainable params: \u001B[0m\u001B[38;5;34m0\u001B[0m (0.00 B)\n"
      ],
      "text/html": [
       "<pre style=\"white-space:pre;overflow-x:auto;line-height:normal;font-family:Menlo,'DejaVu Sans Mono',consolas,'Courier New',monospace\"><span style=\"font-weight: bold\"> Trainable params: </span><span style=\"color: #00af00; text-decoration-color: #00af00\">0</span> (0.00 B)\n",
       "</pre>\n"
      ]
     },
     "metadata": {},
     "output_type": "display_data"
    },
    {
     "data": {
      "text/plain": [
       "\u001B[1m Non-trainable params: \u001B[0m\u001B[38;5;34m0\u001B[0m (0.00 B)\n"
      ],
      "text/html": [
       "<pre style=\"white-space:pre;overflow-x:auto;line-height:normal;font-family:Menlo,'DejaVu Sans Mono',consolas,'Courier New',monospace\"><span style=\"font-weight: bold\"> Non-trainable params: </span><span style=\"color: #00af00; text-decoration-color: #00af00\">0</span> (0.00 B)\n",
       "</pre>\n"
      ]
     },
     "metadata": {},
     "output_type": "display_data"
    }
   ],
   "execution_count": 13
  },
  {
   "metadata": {
    "ExecuteTime": {
     "end_time": "2025-03-09T23:25:44.260163Z",
     "start_time": "2025-03-09T23:25:44.246290Z"
    }
   },
   "cell_type": "code",
   "source": [
    "model.compile(\n",
    "optimizer = \"adam\",\n",
    "loss = \"binary_crossentropy\",\n",
    "metrics = [\"accuracy\"]\n",
    ")"
   ],
   "id": "cd43e49218c087b8",
   "outputs": [],
   "execution_count": 14
  },
  {
   "metadata": {
    "ExecuteTime": {
     "end_time": "2025-03-09T23:28:11.515211Z",
     "start_time": "2025-03-09T23:25:44.275415Z"
    }
   },
   "cell_type": "code",
   "source": [
    "model.fit(\n",
    "train_dataset,\n",
    "epochs= 20,\n",
    "batch_size = 32,\n",
    "validation_data = validation_dataset\n",
    ")"
   ],
   "id": "ee92444528ce9b2f",
   "outputs": [
    {
     "name": "stdout",
     "output_type": "stream",
     "text": [
      "Epoch 1/20\n",
      "\u001B[1m875/875\u001B[0m \u001B[32m━━━━━━━━━━━━━━━━━━━━\u001B[0m\u001B[37m\u001B[0m \u001B[1m9s\u001B[0m 8ms/step - accuracy: 0.5246 - loss: 0.8644 - val_accuracy: 0.5505 - val_loss: 0.6810\n",
      "Epoch 2/20\n",
      "\u001B[1m875/875\u001B[0m \u001B[32m━━━━━━━━━━━━━━━━━━━━\u001B[0m\u001B[37m\u001B[0m \u001B[1m7s\u001B[0m 8ms/step - accuracy: 0.5413 - loss: 0.6936 - val_accuracy: 0.5730 - val_loss: 0.6759\n",
      "Epoch 3/20\n",
      "\u001B[1m875/875\u001B[0m \u001B[32m━━━━━━━━━━━━━━━━━━━━\u001B[0m\u001B[37m\u001B[0m \u001B[1m7s\u001B[0m 8ms/step - accuracy: 0.5656 - loss: 0.6822 - val_accuracy: 0.5705 - val_loss: 0.6767\n",
      "Epoch 4/20\n",
      "\u001B[1m875/875\u001B[0m \u001B[32m━━━━━━━━━━━━━━━━━━━━\u001B[0m\u001B[37m\u001B[0m \u001B[1m7s\u001B[0m 8ms/step - accuracy: 0.5711 - loss: 0.6786 - val_accuracy: 0.5800 - val_loss: 0.6739\n",
      "Epoch 5/20\n",
      "\u001B[1m875/875\u001B[0m \u001B[32m━━━━━━━━━━━━━━━━━━━━\u001B[0m\u001B[37m\u001B[0m \u001B[1m8s\u001B[0m 9ms/step - accuracy: 0.5802 - loss: 0.6743 - val_accuracy: 0.5836 - val_loss: 0.6729\n",
      "Epoch 6/20\n",
      "\u001B[1m875/875\u001B[0m \u001B[32m━━━━━━━━━━━━━━━━━━━━\u001B[0m\u001B[37m\u001B[0m \u001B[1m7s\u001B[0m 8ms/step - accuracy: 0.5804 - loss: 0.6750 - val_accuracy: 0.5767 - val_loss: 0.6733\n",
      "Epoch 7/20\n",
      "\u001B[1m875/875\u001B[0m \u001B[32m━━━━━━━━━━━━━━━━━━━━\u001B[0m\u001B[37m\u001B[0m \u001B[1m7s\u001B[0m 8ms/step - accuracy: 0.5874 - loss: 0.6730 - val_accuracy: 0.5866 - val_loss: 0.6738\n",
      "Epoch 8/20\n",
      "\u001B[1m875/875\u001B[0m \u001B[32m━━━━━━━━━━━━━━━━━━━━\u001B[0m\u001B[37m\u001B[0m \u001B[1m7s\u001B[0m 8ms/step - accuracy: 0.5894 - loss: 0.6714 - val_accuracy: 0.5842 - val_loss: 0.6735\n",
      "Epoch 9/20\n",
      "\u001B[1m875/875\u001B[0m \u001B[32m━━━━━━━━━━━━━━━━━━━━\u001B[0m\u001B[37m\u001B[0m \u001B[1m7s\u001B[0m 8ms/step - accuracy: 0.5935 - loss: 0.6698 - val_accuracy: 0.5874 - val_loss: 0.6736\n",
      "Epoch 10/20\n",
      "\u001B[1m875/875\u001B[0m \u001B[32m━━━━━━━━━━━━━━━━━━━━\u001B[0m\u001B[37m\u001B[0m \u001B[1m7s\u001B[0m 8ms/step - accuracy: 0.5923 - loss: 0.6699 - val_accuracy: 0.5837 - val_loss: 0.6713\n",
      "Epoch 11/20\n",
      "\u001B[1m875/875\u001B[0m \u001B[32m━━━━━━━━━━━━━━━━━━━━\u001B[0m\u001B[37m\u001B[0m \u001B[1m7s\u001B[0m 8ms/step - accuracy: 0.5988 - loss: 0.6669 - val_accuracy: 0.5834 - val_loss: 0.6723\n",
      "Epoch 12/20\n",
      "\u001B[1m875/875\u001B[0m \u001B[32m━━━━━━━━━━━━━━━━━━━━\u001B[0m\u001B[37m\u001B[0m \u001B[1m8s\u001B[0m 9ms/step - accuracy: 0.5970 - loss: 0.6666 - val_accuracy: 0.5832 - val_loss: 0.6718\n",
      "Epoch 13/20\n",
      "\u001B[1m875/875\u001B[0m \u001B[32m━━━━━━━━━━━━━━━━━━━━\u001B[0m\u001B[37m\u001B[0m \u001B[1m7s\u001B[0m 8ms/step - accuracy: 0.6052 - loss: 0.6632 - val_accuracy: 0.5824 - val_loss: 0.6722\n",
      "Epoch 14/20\n",
      "\u001B[1m875/875\u001B[0m \u001B[32m━━━━━━━━━━━━━━━━━━━━\u001B[0m\u001B[37m\u001B[0m \u001B[1m7s\u001B[0m 8ms/step - accuracy: 0.6004 - loss: 0.6624 - val_accuracy: 0.5745 - val_loss: 0.6721\n",
      "Epoch 15/20\n",
      "\u001B[1m875/875\u001B[0m \u001B[32m━━━━━━━━━━━━━━━━━━━━\u001B[0m\u001B[37m\u001B[0m \u001B[1m7s\u001B[0m 8ms/step - accuracy: 0.6059 - loss: 0.6603 - val_accuracy: 0.5829 - val_loss: 0.6728\n",
      "Epoch 16/20\n",
      "\u001B[1m875/875\u001B[0m \u001B[32m━━━━━━━━━━━━━━━━━━━━\u001B[0m\u001B[37m\u001B[0m \u001B[1m7s\u001B[0m 8ms/step - accuracy: 0.6057 - loss: 0.6599 - val_accuracy: 0.5765 - val_loss: 0.6737\n",
      "Epoch 17/20\n",
      "\u001B[1m875/875\u001B[0m \u001B[32m━━━━━━━━━━━━━━━━━━━━\u001B[0m\u001B[37m\u001B[0m \u001B[1m7s\u001B[0m 8ms/step - accuracy: 0.6040 - loss: 0.6574 - val_accuracy: 0.5816 - val_loss: 0.6725\n",
      "Epoch 18/20\n",
      "\u001B[1m875/875\u001B[0m \u001B[32m━━━━━━━━━━━━━━━━━━━━\u001B[0m\u001B[37m\u001B[0m \u001B[1m7s\u001B[0m 8ms/step - accuracy: 0.6062 - loss: 0.6585 - val_accuracy: 0.5784 - val_loss: 0.6721\n",
      "Epoch 19/20\n",
      "\u001B[1m875/875\u001B[0m \u001B[32m━━━━━━━━━━━━━━━━━━━━\u001B[0m\u001B[37m\u001B[0m \u001B[1m7s\u001B[0m 8ms/step - accuracy: 0.6111 - loss: 0.6578 - val_accuracy: 0.5831 - val_loss: 0.6727\n",
      "Epoch 20/20\n",
      "\u001B[1m875/875\u001B[0m \u001B[32m━━━━━━━━━━━━━━━━━━━━\u001B[0m\u001B[37m\u001B[0m \u001B[1m7s\u001B[0m 8ms/step - accuracy: 0.6086 - loss: 0.6574 - val_accuracy: 0.5839 - val_loss: 0.6725\n"
     ]
    },
    {
     "data": {
      "text/plain": [
       "<keras.src.callbacks.history.History at 0x240798c8c20>"
      ]
     },
     "execution_count": 15,
     "metadata": {},
     "output_type": "execute_result"
    }
   ],
   "execution_count": 15
  },
  {
   "metadata": {
    "ExecuteTime": {
     "end_time": "2025-03-09T23:28:18.755040Z",
     "start_time": "2025-03-09T23:28:11.556058Z"
    }
   },
   "cell_type": "code",
   "source": [
    "loss, accuracy = model.evaluate(train_dataset)\n",
    "print(f\"Training set:\\nLoss: {loss}, Accuracy: {accuracy}\")\n",
    "loss, accuracy = model.evaluate(test_dataset)\n",
    "print(f\"Test set:\\nLoss: {loss}, Accuracy: {accuracy}\")"
   ],
   "id": "73439dac28592178",
   "outputs": [
    {
     "name": "stdout",
     "output_type": "stream",
     "text": [
      "\u001B[1m875/875\u001B[0m \u001B[32m━━━━━━━━━━━━━━━━━━━━\u001B[0m\u001B[37m\u001B[0m \u001B[1m7s\u001B[0m 8ms/step - accuracy: 0.6297 - loss: 0.6451\n",
      "Training set:\n",
      "Loss: 0.6411459445953369, Accuracy: 0.6331071257591248\n",
      "\u001B[1m188/188\u001B[0m \u001B[32m━━━━━━━━━━━━━━━━━━━━\u001B[0m\u001B[37m\u001B[0m \u001B[1m0s\u001B[0m 2ms/step - accuracy: 0.5883 - loss: 0.6690\n",
      "Test set:\n",
      "Loss: 0.6707727909088135, Accuracy: 0.5884308218955994\n"
     ]
    }
   ],
   "execution_count": 16
  },
  {
   "metadata": {},
   "cell_type": "markdown",
   "source": [
    "## Terza configurazione\n",
    "\n",
    "Nella tokenizzazione delle recensione vengono scelte una size per il vocabolario pari a 100 e una lunghezza massima delle recensioni di 70 (sopra la media).\n"
   ],
   "id": "69c654f921b5fdb7"
  },
  {
   "metadata": {
    "ExecuteTime": {
     "end_time": "2025-03-09T23:28:26.016097Z",
     "start_time": "2025-03-09T23:28:18.776982Z"
    }
   },
   "cell_type": "code",
   "source": [
    "MAX_SEQUENCE_LENGTH = 70\n",
    "VOCAB_SIZE = 100\n",
    "vectorizationLayer = tf.keras.layers.TextVectorization(\n",
    "    max_tokens=VOCAB_SIZE,\n",
    "    output_mode='int',\n",
    "    output_sequence_length=MAX_SEQUENCE_LENGTH)\n",
    "vectorizationLayer.adapt(X_train)"
   ],
   "id": "cdaa731999403752",
   "outputs": [],
   "execution_count": 17
  },
  {
   "metadata": {
    "ExecuteTime": {
     "end_time": "2025-03-09T23:28:26.032363Z",
     "start_time": "2025-03-09T23:28:26.026203Z"
    }
   },
   "cell_type": "code",
   "source": "model = models.Sequential()",
   "id": "172924d8a159f6aa",
   "outputs": [],
   "execution_count": 18
  },
  {
   "metadata": {
    "ExecuteTime": {
     "end_time": "2025-03-09T23:28:26.085622Z",
     "start_time": "2025-03-09T23:28:26.047802Z"
    }
   },
   "cell_type": "code",
   "source": [
    "# Input - Layer\n",
    "model.add(vectorizationLayer)\n",
    "# Hidden - Layers\n",
    "model.add(layers.Dense(50, activation = \"relu\"))\n",
    "model.add(layers.Dropout(0.3))\n",
    "model.add(layers.Dense(50, activation = \"relu\"))\n",
    "model.add(layers.Dropout(0.2))\n",
    "model.add(layers.Dense(50, activation = \"relu\"))\n",
    "# Output- Layer\n",
    "model.add(layers.Dense(1, activation = \"sigmoid\"))\n",
    "model.summary()"
   ],
   "id": "6671be1435f1edee",
   "outputs": [
    {
     "data": {
      "text/plain": [
       "\u001B[1mModel: \"sequential_2\"\u001B[0m\n"
      ],
      "text/html": [
       "<pre style=\"white-space:pre;overflow-x:auto;line-height:normal;font-family:Menlo,'DejaVu Sans Mono',consolas,'Courier New',monospace\"><span style=\"font-weight: bold\">Model: \"sequential_2\"</span>\n",
       "</pre>\n"
      ]
     },
     "metadata": {},
     "output_type": "display_data"
    },
    {
     "data": {
      "text/plain": [
       "┏━━━━━━━━━━━━━━━━━━━━━━━━━━━━━━━━━┳━━━━━━━━━━━━━━━━━━━━━━━━┳━━━━━━━━━━━━━━━┓\n",
       "┃\u001B[1m \u001B[0m\u001B[1mLayer (type)                   \u001B[0m\u001B[1m \u001B[0m┃\u001B[1m \u001B[0m\u001B[1mOutput Shape          \u001B[0m\u001B[1m \u001B[0m┃\u001B[1m \u001B[0m\u001B[1m      Param #\u001B[0m\u001B[1m \u001B[0m┃\n",
       "┡━━━━━━━━━━━━━━━━━━━━━━━━━━━━━━━━━╇━━━━━━━━━━━━━━━━━━━━━━━━╇━━━━━━━━━━━━━━━┩\n",
       "│ text_vectorization_2            │ ?                      │   \u001B[38;5;34m0\u001B[0m (unbuilt) │\n",
       "│ (\u001B[38;5;33mTextVectorization\u001B[0m)             │                        │               │\n",
       "├─────────────────────────────────┼────────────────────────┼───────────────┤\n",
       "│ dense_8 (\u001B[38;5;33mDense\u001B[0m)                 │ ?                      │   \u001B[38;5;34m0\u001B[0m (unbuilt) │\n",
       "├─────────────────────────────────┼────────────────────────┼───────────────┤\n",
       "│ dropout_4 (\u001B[38;5;33mDropout\u001B[0m)             │ ?                      │             \u001B[38;5;34m0\u001B[0m │\n",
       "├─────────────────────────────────┼────────────────────────┼───────────────┤\n",
       "│ dense_9 (\u001B[38;5;33mDense\u001B[0m)                 │ ?                      │   \u001B[38;5;34m0\u001B[0m (unbuilt) │\n",
       "├─────────────────────────────────┼────────────────────────┼───────────────┤\n",
       "│ dropout_5 (\u001B[38;5;33mDropout\u001B[0m)             │ ?                      │             \u001B[38;5;34m0\u001B[0m │\n",
       "├─────────────────────────────────┼────────────────────────┼───────────────┤\n",
       "│ dense_10 (\u001B[38;5;33mDense\u001B[0m)                │ ?                      │   \u001B[38;5;34m0\u001B[0m (unbuilt) │\n",
       "├─────────────────────────────────┼────────────────────────┼───────────────┤\n",
       "│ dense_11 (\u001B[38;5;33mDense\u001B[0m)                │ ?                      │   \u001B[38;5;34m0\u001B[0m (unbuilt) │\n",
       "└─────────────────────────────────┴────────────────────────┴───────────────┘\n"
      ],
      "text/html": [
       "<pre style=\"white-space:pre;overflow-x:auto;line-height:normal;font-family:Menlo,'DejaVu Sans Mono',consolas,'Courier New',monospace\">┏━━━━━━━━━━━━━━━━━━━━━━━━━━━━━━━━━┳━━━━━━━━━━━━━━━━━━━━━━━━┳━━━━━━━━━━━━━━━┓\n",
       "┃<span style=\"font-weight: bold\"> Layer (type)                    </span>┃<span style=\"font-weight: bold\"> Output Shape           </span>┃<span style=\"font-weight: bold\">       Param # </span>┃\n",
       "┡━━━━━━━━━━━━━━━━━━━━━━━━━━━━━━━━━╇━━━━━━━━━━━━━━━━━━━━━━━━╇━━━━━━━━━━━━━━━┩\n",
       "│ text_vectorization_2            │ ?                      │   <span style=\"color: #00af00; text-decoration-color: #00af00\">0</span> (unbuilt) │\n",
       "│ (<span style=\"color: #0087ff; text-decoration-color: #0087ff\">TextVectorization</span>)             │                        │               │\n",
       "├─────────────────────────────────┼────────────────────────┼───────────────┤\n",
       "│ dense_8 (<span style=\"color: #0087ff; text-decoration-color: #0087ff\">Dense</span>)                 │ ?                      │   <span style=\"color: #00af00; text-decoration-color: #00af00\">0</span> (unbuilt) │\n",
       "├─────────────────────────────────┼────────────────────────┼───────────────┤\n",
       "│ dropout_4 (<span style=\"color: #0087ff; text-decoration-color: #0087ff\">Dropout</span>)             │ ?                      │             <span style=\"color: #00af00; text-decoration-color: #00af00\">0</span> │\n",
       "├─────────────────────────────────┼────────────────────────┼───────────────┤\n",
       "│ dense_9 (<span style=\"color: #0087ff; text-decoration-color: #0087ff\">Dense</span>)                 │ ?                      │   <span style=\"color: #00af00; text-decoration-color: #00af00\">0</span> (unbuilt) │\n",
       "├─────────────────────────────────┼────────────────────────┼───────────────┤\n",
       "│ dropout_5 (<span style=\"color: #0087ff; text-decoration-color: #0087ff\">Dropout</span>)             │ ?                      │             <span style=\"color: #00af00; text-decoration-color: #00af00\">0</span> │\n",
       "├─────────────────────────────────┼────────────────────────┼───────────────┤\n",
       "│ dense_10 (<span style=\"color: #0087ff; text-decoration-color: #0087ff\">Dense</span>)                │ ?                      │   <span style=\"color: #00af00; text-decoration-color: #00af00\">0</span> (unbuilt) │\n",
       "├─────────────────────────────────┼────────────────────────┼───────────────┤\n",
       "│ dense_11 (<span style=\"color: #0087ff; text-decoration-color: #0087ff\">Dense</span>)                │ ?                      │   <span style=\"color: #00af00; text-decoration-color: #00af00\">0</span> (unbuilt) │\n",
       "└─────────────────────────────────┴────────────────────────┴───────────────┘\n",
       "</pre>\n"
      ]
     },
     "metadata": {},
     "output_type": "display_data"
    },
    {
     "data": {
      "text/plain": [
       "\u001B[1m Total params: \u001B[0m\u001B[38;5;34m0\u001B[0m (0.00 B)\n"
      ],
      "text/html": [
       "<pre style=\"white-space:pre;overflow-x:auto;line-height:normal;font-family:Menlo,'DejaVu Sans Mono',consolas,'Courier New',monospace\"><span style=\"font-weight: bold\"> Total params: </span><span style=\"color: #00af00; text-decoration-color: #00af00\">0</span> (0.00 B)\n",
       "</pre>\n"
      ]
     },
     "metadata": {},
     "output_type": "display_data"
    },
    {
     "data": {
      "text/plain": [
       "\u001B[1m Trainable params: \u001B[0m\u001B[38;5;34m0\u001B[0m (0.00 B)\n"
      ],
      "text/html": [
       "<pre style=\"white-space:pre;overflow-x:auto;line-height:normal;font-family:Menlo,'DejaVu Sans Mono',consolas,'Courier New',monospace\"><span style=\"font-weight: bold\"> Trainable params: </span><span style=\"color: #00af00; text-decoration-color: #00af00\">0</span> (0.00 B)\n",
       "</pre>\n"
      ]
     },
     "metadata": {},
     "output_type": "display_data"
    },
    {
     "data": {
      "text/plain": [
       "\u001B[1m Non-trainable params: \u001B[0m\u001B[38;5;34m0\u001B[0m (0.00 B)\n"
      ],
      "text/html": [
       "<pre style=\"white-space:pre;overflow-x:auto;line-height:normal;font-family:Menlo,'DejaVu Sans Mono',consolas,'Courier New',monospace\"><span style=\"font-weight: bold\"> Non-trainable params: </span><span style=\"color: #00af00; text-decoration-color: #00af00\">0</span> (0.00 B)\n",
       "</pre>\n"
      ]
     },
     "metadata": {},
     "output_type": "display_data"
    }
   ],
   "execution_count": 19
  },
  {
   "metadata": {
    "ExecuteTime": {
     "end_time": "2025-03-09T23:28:26.252351Z",
     "start_time": "2025-03-09T23:28:26.240354Z"
    }
   },
   "cell_type": "code",
   "source": [
    "model.compile(\n",
    "optimizer = \"adam\",\n",
    "loss = \"binary_crossentropy\",\n",
    "metrics = [\"accuracy\"]\n",
    ")"
   ],
   "id": "5640e5f260db49ca",
   "outputs": [],
   "execution_count": 20
  },
  {
   "metadata": {
    "ExecuteTime": {
     "end_time": "2025-03-09T23:30:56.169404Z",
     "start_time": "2025-03-09T23:28:26.272381Z"
    }
   },
   "cell_type": "code",
   "source": [
    "model.fit(\n",
    "train_dataset,\n",
    "epochs= 20,\n",
    "batch_size = 32,\n",
    "validation_data = validation_dataset\n",
    ")"
   ],
   "id": "cad0ae2e472debd",
   "outputs": [
    {
     "name": "stdout",
     "output_type": "stream",
     "text": [
      "Epoch 1/20\n",
      "\u001B[1m875/875\u001B[0m \u001B[32m━━━━━━━━━━━━━━━━━━━━\u001B[0m\u001B[37m\u001B[0m \u001B[1m10s\u001B[0m 9ms/step - accuracy: 0.5233 - loss: 1.1825 - val_accuracy: 0.5396 - val_loss: 0.6857\n",
      "Epoch 2/20\n",
      "\u001B[1m875/875\u001B[0m \u001B[32m━━━━━━━━━━━━━━━━━━━━\u001B[0m\u001B[37m\u001B[0m \u001B[1m8s\u001B[0m 9ms/step - accuracy: 0.5457 - loss: 0.6990 - val_accuracy: 0.5545 - val_loss: 0.6774\n",
      "Epoch 3/20\n",
      "\u001B[1m875/875\u001B[0m \u001B[32m━━━━━━━━━━━━━━━━━━━━\u001B[0m\u001B[37m\u001B[0m \u001B[1m7s\u001B[0m 8ms/step - accuracy: 0.5484 - loss: 0.6893 - val_accuracy: 0.5662 - val_loss: 0.6757\n",
      "Epoch 4/20\n",
      "\u001B[1m875/875\u001B[0m \u001B[32m━━━━━━━━━━━━━━━━━━━━\u001B[0m\u001B[37m\u001B[0m \u001B[1m7s\u001B[0m 8ms/step - accuracy: 0.5622 - loss: 0.6798 - val_accuracy: 0.5757 - val_loss: 0.6742\n",
      "Epoch 5/20\n",
      "\u001B[1m875/875\u001B[0m \u001B[32m━━━━━━━━━━━━━━━━━━━━\u001B[0m\u001B[37m\u001B[0m \u001B[1m7s\u001B[0m 8ms/step - accuracy: 0.5646 - loss: 0.6773 - val_accuracy: 0.5650 - val_loss: 0.6748\n",
      "Epoch 6/20\n",
      "\u001B[1m875/875\u001B[0m \u001B[32m━━━━━━━━━━━━━━━━━━━━\u001B[0m\u001B[37m\u001B[0m \u001B[1m7s\u001B[0m 8ms/step - accuracy: 0.5728 - loss: 0.6747 - val_accuracy: 0.5720 - val_loss: 0.6739\n",
      "Epoch 7/20\n",
      "\u001B[1m875/875\u001B[0m \u001B[32m━━━━━━━━━━━━━━━━━━━━\u001B[0m\u001B[37m\u001B[0m \u001B[1m7s\u001B[0m 8ms/step - accuracy: 0.5827 - loss: 0.6725 - val_accuracy: 0.5745 - val_loss: 0.6739\n",
      "Epoch 8/20\n",
      "\u001B[1m875/875\u001B[0m \u001B[32m━━━━━━━━━━━━━━━━━━━━\u001B[0m\u001B[37m\u001B[0m \u001B[1m7s\u001B[0m 8ms/step - accuracy: 0.5845 - loss: 0.6709 - val_accuracy: 0.5777 - val_loss: 0.6731\n",
      "Epoch 9/20\n",
      "\u001B[1m875/875\u001B[0m \u001B[32m━━━━━━━━━━━━━━━━━━━━\u001B[0m\u001B[37m\u001B[0m \u001B[1m7s\u001B[0m 8ms/step - accuracy: 0.5851 - loss: 0.6681 - val_accuracy: 0.5814 - val_loss: 0.6722\n",
      "Epoch 10/20\n",
      "\u001B[1m875/875\u001B[0m \u001B[32m━━━━━━━━━━━━━━━━━━━━\u001B[0m\u001B[37m\u001B[0m \u001B[1m7s\u001B[0m 9ms/step - accuracy: 0.5912 - loss: 0.6671 - val_accuracy: 0.5779 - val_loss: 0.6735\n",
      "Epoch 11/20\n",
      "\u001B[1m875/875\u001B[0m \u001B[32m━━━━━━━━━━━━━━━━━━━━\u001B[0m\u001B[37m\u001B[0m \u001B[1m7s\u001B[0m 8ms/step - accuracy: 0.5902 - loss: 0.6652 - val_accuracy: 0.5774 - val_loss: 0.6731\n",
      "Epoch 12/20\n",
      "\u001B[1m875/875\u001B[0m \u001B[32m━━━━━━━━━━━━━━━━━━━━\u001B[0m\u001B[37m\u001B[0m \u001B[1m7s\u001B[0m 8ms/step - accuracy: 0.5938 - loss: 0.6632 - val_accuracy: 0.5740 - val_loss: 0.6719\n",
      "Epoch 13/20\n",
      "\u001B[1m875/875\u001B[0m \u001B[32m━━━━━━━━━━━━━━━━━━━━\u001B[0m\u001B[37m\u001B[0m \u001B[1m7s\u001B[0m 8ms/step - accuracy: 0.5975 - loss: 0.6603 - val_accuracy: 0.5777 - val_loss: 0.6725\n",
      "Epoch 14/20\n",
      "\u001B[1m875/875\u001B[0m \u001B[32m━━━━━━━━━━━━━━━━━━━━\u001B[0m\u001B[37m\u001B[0m \u001B[1m7s\u001B[0m 8ms/step - accuracy: 0.5967 - loss: 0.6595 - val_accuracy: 0.5752 - val_loss: 0.6726\n",
      "Epoch 15/20\n",
      "\u001B[1m875/875\u001B[0m \u001B[32m━━━━━━━━━━━━━━━━━━━━\u001B[0m\u001B[37m\u001B[0m \u001B[1m7s\u001B[0m 8ms/step - accuracy: 0.6015 - loss: 0.6569 - val_accuracy: 0.5747 - val_loss: 0.6728\n",
      "Epoch 16/20\n",
      "\u001B[1m875/875\u001B[0m \u001B[32m━━━━━━━━━━━━━━━━━━━━\u001B[0m\u001B[37m\u001B[0m \u001B[1m7s\u001B[0m 8ms/step - accuracy: 0.6035 - loss: 0.6544 - val_accuracy: 0.5742 - val_loss: 0.6734\n",
      "Epoch 17/20\n",
      "\u001B[1m875/875\u001B[0m \u001B[32m━━━━━━━━━━━━━━━━━━━━\u001B[0m\u001B[37m\u001B[0m \u001B[1m8s\u001B[0m 9ms/step - accuracy: 0.6074 - loss: 0.6517 - val_accuracy: 0.5795 - val_loss: 0.6731\n",
      "Epoch 18/20\n",
      "\u001B[1m875/875\u001B[0m \u001B[32m━━━━━━━━━━━━━━━━━━━━\u001B[0m\u001B[37m\u001B[0m \u001B[1m7s\u001B[0m 8ms/step - accuracy: 0.6082 - loss: 0.6505 - val_accuracy: 0.5775 - val_loss: 0.6728\n",
      "Epoch 19/20\n",
      "\u001B[1m875/875\u001B[0m \u001B[32m━━━━━━━━━━━━━━━━━━━━\u001B[0m\u001B[37m\u001B[0m \u001B[1m7s\u001B[0m 8ms/step - accuracy: 0.6131 - loss: 0.6487 - val_accuracy: 0.5767 - val_loss: 0.6737\n",
      "Epoch 20/20\n",
      "\u001B[1m875/875\u001B[0m \u001B[32m━━━━━━━━━━━━━━━━━━━━\u001B[0m\u001B[37m\u001B[0m \u001B[1m7s\u001B[0m 8ms/step - accuracy: 0.6113 - loss: 0.6482 - val_accuracy: 0.5694 - val_loss: 0.6755\n"
     ]
    },
    {
     "data": {
      "text/plain": [
       "<keras.src.callbacks.history.History at 0x2407ef8b470>"
      ]
     },
     "execution_count": 21,
     "metadata": {},
     "output_type": "execute_result"
    }
   ],
   "execution_count": 21
  },
  {
   "metadata": {
    "ExecuteTime": {
     "end_time": "2025-03-09T23:31:03.357749Z",
     "start_time": "2025-03-09T23:30:56.220704Z"
    }
   },
   "cell_type": "code",
   "source": [
    "loss, accuracy = model.evaluate(train_dataset)\n",
    "print(f\"Training set:\\nLoss: {loss}, Accuracy: {accuracy}\")\n",
    "loss, accuracy = model.evaluate(test_dataset)\n",
    "print(f\"Test set:\\nLoss: {loss}, Accuracy: {accuracy}\")"
   ],
   "id": "ece7f8fd948cb276",
   "outputs": [
    {
     "name": "stdout",
     "output_type": "stream",
     "text": [
      "\u001B[1m875/875\u001B[0m \u001B[32m━━━━━━━━━━━━━━━━━━━━\u001B[0m\u001B[37m\u001B[0m \u001B[1m7s\u001B[0m 8ms/step - accuracy: 0.6407 - loss: 0.6387\n",
      "Training set:\n",
      "Loss: 0.6351535320281982, Accuracy: 0.6462500095367432\n",
      "\u001B[1m188/188\u001B[0m \u001B[32m━━━━━━━━━━━━━━━━━━━━\u001B[0m\u001B[37m\u001B[0m \u001B[1m0s\u001B[0m 2ms/step - accuracy: 0.5975 - loss: 0.6660\n",
      "Test set:\n",
      "Loss: 0.6692769527435303, Accuracy: 0.5844414830207825\n"
     ]
    }
   ],
   "execution_count": 22
  },
  {
   "metadata": {},
   "cell_type": "markdown",
   "source": [
    "## Conclusione\n",
    "\n",
    "Le tre configurazioni hanno tutte prestazioni simili, sia testando il modello con i dati del training, sia con quelli del testing: le maggiori differenze si possono notare nell'accuracy per quanto riguarda la seconda e la terza configurazione, che presentano uno scarto di circa il 5% tra training e test set a favore del primo.\n"
   ],
   "id": "bc03b28524dac52c"
  }
 ],
 "metadata": {
  "kernelspec": {
   "display_name": "Python 3",
   "language": "python",
   "name": "python3"
  },
  "language_info": {
   "codemirror_mode": {
    "name": "ipython",
    "version": 2
   },
   "file_extension": ".py",
   "mimetype": "text/x-python",
   "name": "python",
   "nbconvert_exporter": "python",
   "pygments_lexer": "ipython2",
   "version": "2.7.6"
  }
 },
 "nbformat": 4,
 "nbformat_minor": 5
}
