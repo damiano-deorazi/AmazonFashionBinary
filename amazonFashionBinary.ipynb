{
 "cells": [
  {
   "metadata": {},
   "cell_type": "markdown",
   "source": [
    "# Amazon Fashion Binary\n",
    "\n",
    "Il progetto è volto allo sviluppo di un modello ML per svolgere sentiment analysis su recensioni di utenti amazon al fine di classificarle come positive o negative."
   ],
   "id": "b4a16bcbf83af509"
  },
  {
   "metadata": {
    "ExecuteTime": {
     "end_time": "2025-03-09T01:27:05.628711Z",
     "start_time": "2025-03-09T01:27:05.610657Z"
    }
   },
   "cell_type": "code",
   "source": [
    "import tensorflow as tf\n",
    "from tensorflow import keras\n",
    "from keras import models, layers"
   ],
   "id": "24678186c6705341",
   "outputs": [],
   "execution_count": 43
  },
  {
   "metadata": {},
   "cell_type": "markdown",
   "source": [
    "## Dataset\n",
    "Il dataset è composto da 20000 recensioni positive e 20000 recensioni negative. Verranno provate varie configurazioni del dataset: la prima consiste nel dataset completo senza apportare nessuna modifica alle recensioni, nella seconda le recensioni verranno modificate in base alla loro lunghezza e alla dimensione del vocabolario."
   ],
   "id": "81ec1fdbce83c8b2"
  },
  {
   "metadata": {
    "ExecuteTime": {
     "end_time": "2025-03-09T01:27:08.466712Z",
     "start_time": "2025-03-09T01:27:08.448397Z"
    }
   },
   "cell_type": "code",
   "source": [
    "#path della directory deel dataset\n",
    "directory_path = \"./reviews\""
   ],
   "id": "15132afa70468fd0",
   "outputs": [],
   "execution_count": 44
  },
  {
   "metadata": {},
   "cell_type": "markdown",
   "source": "Il dataset viene dapprima diviso in training set (70%), validation set (15%) e test set (15%)",
   "id": "d39084559729dc4d"
  },
  {
   "cell_type": "code",
   "id": "initial_id",
   "metadata": {
    "collapsed": true,
    "ExecuteTime": {
     "end_time": "2025-03-09T01:27:17.114673Z",
     "start_time": "2025-03-09T01:27:10.518024Z"
    }
   },
   "source": [
    "train_dataset, test_validation_dataset = tf.keras.preprocessing.text_dataset_from_directory(\n",
    "    directory_path,\n",
    "    labels='inferred',\n",
    "    label_mode='int',\n",
    "    class_names=None,\n",
    "    batch_size=32,\n",
    "    max_length=None,\n",
    "    shuffle=True,\n",
    "    seed=42,\n",
    "    validation_split=0.3,\n",
    "    subset=\"both\",\n",
    "    follow_links=False,\n",
    "    verbose=True\n",
    ")\n",
    "test_dataset, validation_dataset = tf.keras.utils.split_dataset(\n",
    "    test_validation_dataset, left_size=0.5, shuffle=True, seed=42\n",
    ")\n",
    "X_train = train_dataset.map(lambda x, y: x)\n",
    "X_test = test_dataset.map(lambda x, y: x)\n",
    "X_validation = validation_dataset.map(lambda x, y: x)"
   ],
   "outputs": [
    {
     "name": "stdout",
     "output_type": "stream",
     "text": [
      "Found 40000 files belonging to 2 classes.\n",
      "Using 28000 files for training.\n",
      "Using 12000 files for validation.\n"
     ]
    }
   ],
   "execution_count": 45
  },
  {
   "metadata": {},
   "cell_type": "markdown",
   "source": "Vengono calcolate la media e la varianza della lunghezza delle recensioni: questi dati verranno utilizzati per scegliere le configurazioni del dataset su cui il modello opererà.",
   "id": "1374f81b8c6264e3"
  },
  {
   "metadata": {
    "ExecuteTime": {
     "end_time": "2025-03-09T02:03:50.882308Z",
     "start_time": "2025-03-09T02:03:43.450972Z"
    }
   },
   "cell_type": "code",
   "source": [
    "#lunghezza media delle recensioni\n",
    "DATASET_SIZE = 40000\n",
    "len_strings = []\n",
    "\n",
    "for batch in X_train:\n",
    "    n = batch.numpy()\n",
    "    for data in n:\n",
    "        split = data.split()\n",
    "        len_strings.append(len(split))\n",
    "\n",
    "for batch in X_test:\n",
    "    n = batch.numpy()\n",
    "    for data in n:\n",
    "        split = data.split()\n",
    "        len_strings.append(len(split))\n",
    "\n",
    "for batch in X_validation:\n",
    "    n = batch.numpy()\n",
    "    for data in n:\n",
    "        split = data.split()\n",
    "        len_strings.append(len(split))\n",
    "\n",
    "len_mean = sum(len_strings) / DATASET_SIZE\n",
    "len_variance = sum((len_text - len_mean) ** 2 for len_text in len_strings) / DATASET_SIZE\n",
    "\n",
    "print(\"Media: \" + str(len_mean) + \"\\nVarianza: \" + str(len_variance))"
   ],
   "id": "cb4a110af5e1ccd7",
   "outputs": [
    {
     "name": "stdout",
     "output_type": "stream",
     "text": [
      "Media: 33.1579\n",
      "Varianza: 1501.74106759\n"
     ]
    }
   ],
   "execution_count": 56
  },
  {
   "metadata": {},
   "cell_type": "markdown",
   "source": [
    "# Prima configurazione\n",
    "\n",
    "Nella tokenizzazione delle recensione vengono scelte una size per il vocabolario pari a 30 e una lunghezza massima delle recensioni di 20 (sotto la media)."
   ],
   "id": "2210236cc1470d20"
  },
  {
   "metadata": {
    "ExecuteTime": {
     "end_time": "2025-03-09T01:27:34.429543Z",
     "start_time": "2025-03-09T01:27:27.814096Z"
    }
   },
   "cell_type": "code",
   "source": [
    "MAX_SEQUENCE_LENGTH = 20\n",
    "VOCAB_SIZE = 30\n",
    "vectorizationLayer = tf.keras.layers.TextVectorization(\n",
    "    max_tokens=VOCAB_SIZE,\n",
    "    output_mode='int',\n",
    "    output_sequence_length=MAX_SEQUENCE_LENGTH)\n",
    "vectorizationLayer.adapt(X_train)"
   ],
   "id": "7f80320231a5bf0e",
   "outputs": [],
   "execution_count": 47
  },
  {
   "metadata": {
    "ExecuteTime": {
     "end_time": "2025-03-09T01:27:35.408321Z",
     "start_time": "2025-03-09T01:27:35.390831Z"
    }
   },
   "cell_type": "code",
   "source": "model = models.Sequential()",
   "id": "6a5617a67dcdbc1c",
   "outputs": [],
   "execution_count": 48
  },
  {
   "metadata": {
    "ExecuteTime": {
     "end_time": "2025-03-09T01:27:37.881067Z",
     "start_time": "2025-03-09T01:27:37.794828Z"
    }
   },
   "cell_type": "code",
   "source": [
    "# Input - Layer\n",
    "model.add(vectorizationLayer)\n",
    "# Hidden - Layers\n",
    "model.add(layers.Dense(50, activation = \"relu\"))\n",
    "model.add(layers.Dropout(0.3))\n",
    "model.add(layers.Dense(50, activation = \"relu\"))\n",
    "model.add(layers.Dropout(0.2))\n",
    "model.add(layers.Dense(50, activation = \"relu\"))\n",
    "# Output- Layer\n",
    "model.add(layers.Dense(1, activation = \"sigmoid\"))\n",
    "model.summary()"
   ],
   "id": "760cab489721a437",
   "outputs": [
    {
     "data": {
      "text/plain": [
       "\u001B[1mModel: \"sequential_2\"\u001B[0m\n"
      ],
      "text/html": [
       "<pre style=\"white-space:pre;overflow-x:auto;line-height:normal;font-family:Menlo,'DejaVu Sans Mono',consolas,'Courier New',monospace\"><span style=\"font-weight: bold\">Model: \"sequential_2\"</span>\n",
       "</pre>\n"
      ]
     },
     "metadata": {},
     "output_type": "display_data"
    },
    {
     "data": {
      "text/plain": [
       "┏━━━━━━━━━━━━━━━━━━━━━━━━━━━━━━━━━┳━━━━━━━━━━━━━━━━━━━━━━━━┳━━━━━━━━━━━━━━━┓\n",
       "┃\u001B[1m \u001B[0m\u001B[1mLayer (type)                   \u001B[0m\u001B[1m \u001B[0m┃\u001B[1m \u001B[0m\u001B[1mOutput Shape          \u001B[0m\u001B[1m \u001B[0m┃\u001B[1m \u001B[0m\u001B[1m      Param #\u001B[0m\u001B[1m \u001B[0m┃\n",
       "┡━━━━━━━━━━━━━━━━━━━━━━━━━━━━━━━━━╇━━━━━━━━━━━━━━━━━━━━━━━━╇━━━━━━━━━━━━━━━┩\n",
       "│ text_vectorization_2            │ ?                      │   \u001B[38;5;34m0\u001B[0m (unbuilt) │\n",
       "│ (\u001B[38;5;33mTextVectorization\u001B[0m)             │                        │               │\n",
       "├─────────────────────────────────┼────────────────────────┼───────────────┤\n",
       "│ dense_8 (\u001B[38;5;33mDense\u001B[0m)                 │ ?                      │   \u001B[38;5;34m0\u001B[0m (unbuilt) │\n",
       "├─────────────────────────────────┼────────────────────────┼───────────────┤\n",
       "│ dropout_4 (\u001B[38;5;33mDropout\u001B[0m)             │ ?                      │             \u001B[38;5;34m0\u001B[0m │\n",
       "├─────────────────────────────────┼────────────────────────┼───────────────┤\n",
       "│ dense_9 (\u001B[38;5;33mDense\u001B[0m)                 │ ?                      │   \u001B[38;5;34m0\u001B[0m (unbuilt) │\n",
       "├─────────────────────────────────┼────────────────────────┼───────────────┤\n",
       "│ dropout_5 (\u001B[38;5;33mDropout\u001B[0m)             │ ?                      │             \u001B[38;5;34m0\u001B[0m │\n",
       "├─────────────────────────────────┼────────────────────────┼───────────────┤\n",
       "│ dense_10 (\u001B[38;5;33mDense\u001B[0m)                │ ?                      │   \u001B[38;5;34m0\u001B[0m (unbuilt) │\n",
       "├─────────────────────────────────┼────────────────────────┼───────────────┤\n",
       "│ dense_11 (\u001B[38;5;33mDense\u001B[0m)                │ ?                      │   \u001B[38;5;34m0\u001B[0m (unbuilt) │\n",
       "└─────────────────────────────────┴────────────────────────┴───────────────┘\n"
      ],
      "text/html": [
       "<pre style=\"white-space:pre;overflow-x:auto;line-height:normal;font-family:Menlo,'DejaVu Sans Mono',consolas,'Courier New',monospace\">┏━━━━━━━━━━━━━━━━━━━━━━━━━━━━━━━━━┳━━━━━━━━━━━━━━━━━━━━━━━━┳━━━━━━━━━━━━━━━┓\n",
       "┃<span style=\"font-weight: bold\"> Layer (type)                    </span>┃<span style=\"font-weight: bold\"> Output Shape           </span>┃<span style=\"font-weight: bold\">       Param # </span>┃\n",
       "┡━━━━━━━━━━━━━━━━━━━━━━━━━━━━━━━━━╇━━━━━━━━━━━━━━━━━━━━━━━━╇━━━━━━━━━━━━━━━┩\n",
       "│ text_vectorization_2            │ ?                      │   <span style=\"color: #00af00; text-decoration-color: #00af00\">0</span> (unbuilt) │\n",
       "│ (<span style=\"color: #0087ff; text-decoration-color: #0087ff\">TextVectorization</span>)             │                        │               │\n",
       "├─────────────────────────────────┼────────────────────────┼───────────────┤\n",
       "│ dense_8 (<span style=\"color: #0087ff; text-decoration-color: #0087ff\">Dense</span>)                 │ ?                      │   <span style=\"color: #00af00; text-decoration-color: #00af00\">0</span> (unbuilt) │\n",
       "├─────────────────────────────────┼────────────────────────┼───────────────┤\n",
       "│ dropout_4 (<span style=\"color: #0087ff; text-decoration-color: #0087ff\">Dropout</span>)             │ ?                      │             <span style=\"color: #00af00; text-decoration-color: #00af00\">0</span> │\n",
       "├─────────────────────────────────┼────────────────────────┼───────────────┤\n",
       "│ dense_9 (<span style=\"color: #0087ff; text-decoration-color: #0087ff\">Dense</span>)                 │ ?                      │   <span style=\"color: #00af00; text-decoration-color: #00af00\">0</span> (unbuilt) │\n",
       "├─────────────────────────────────┼────────────────────────┼───────────────┤\n",
       "│ dropout_5 (<span style=\"color: #0087ff; text-decoration-color: #0087ff\">Dropout</span>)             │ ?                      │             <span style=\"color: #00af00; text-decoration-color: #00af00\">0</span> │\n",
       "├─────────────────────────────────┼────────────────────────┼───────────────┤\n",
       "│ dense_10 (<span style=\"color: #0087ff; text-decoration-color: #0087ff\">Dense</span>)                │ ?                      │   <span style=\"color: #00af00; text-decoration-color: #00af00\">0</span> (unbuilt) │\n",
       "├─────────────────────────────────┼────────────────────────┼───────────────┤\n",
       "│ dense_11 (<span style=\"color: #0087ff; text-decoration-color: #0087ff\">Dense</span>)                │ ?                      │   <span style=\"color: #00af00; text-decoration-color: #00af00\">0</span> (unbuilt) │\n",
       "└─────────────────────────────────┴────────────────────────┴───────────────┘\n",
       "</pre>\n"
      ]
     },
     "metadata": {},
     "output_type": "display_data"
    },
    {
     "data": {
      "text/plain": [
       "\u001B[1m Total params: \u001B[0m\u001B[38;5;34m0\u001B[0m (0.00 B)\n"
      ],
      "text/html": [
       "<pre style=\"white-space:pre;overflow-x:auto;line-height:normal;font-family:Menlo,'DejaVu Sans Mono',consolas,'Courier New',monospace\"><span style=\"font-weight: bold\"> Total params: </span><span style=\"color: #00af00; text-decoration-color: #00af00\">0</span> (0.00 B)\n",
       "</pre>\n"
      ]
     },
     "metadata": {},
     "output_type": "display_data"
    },
    {
     "data": {
      "text/plain": [
       "\u001B[1m Trainable params: \u001B[0m\u001B[38;5;34m0\u001B[0m (0.00 B)\n"
      ],
      "text/html": [
       "<pre style=\"white-space:pre;overflow-x:auto;line-height:normal;font-family:Menlo,'DejaVu Sans Mono',consolas,'Courier New',monospace\"><span style=\"font-weight: bold\"> Trainable params: </span><span style=\"color: #00af00; text-decoration-color: #00af00\">0</span> (0.00 B)\n",
       "</pre>\n"
      ]
     },
     "metadata": {},
     "output_type": "display_data"
    },
    {
     "data": {
      "text/plain": [
       "\u001B[1m Non-trainable params: \u001B[0m\u001B[38;5;34m0\u001B[0m (0.00 B)\n"
      ],
      "text/html": [
       "<pre style=\"white-space:pre;overflow-x:auto;line-height:normal;font-family:Menlo,'DejaVu Sans Mono',consolas,'Courier New',monospace\"><span style=\"font-weight: bold\"> Non-trainable params: </span><span style=\"color: #00af00; text-decoration-color: #00af00\">0</span> (0.00 B)\n",
       "</pre>\n"
      ]
     },
     "metadata": {},
     "output_type": "display_data"
    }
   ],
   "execution_count": 49
  },
  {
   "metadata": {
    "ExecuteTime": {
     "end_time": "2025-03-09T01:27:52.705621Z",
     "start_time": "2025-03-09T01:27:52.673109Z"
    }
   },
   "cell_type": "code",
   "source": [
    "model.compile(\n",
    "optimizer = \"adam\",\n",
    "loss = \"binary_crossentropy\",\n",
    "metrics = [\"accuracy\"]\n",
    ")"
   ],
   "id": "343be83253473b62",
   "outputs": [],
   "execution_count": 50
  },
  {
   "metadata": {
    "ExecuteTime": {
     "end_time": "2025-03-09T01:30:08.799111Z",
     "start_time": "2025-03-09T01:27:54.639997Z"
    }
   },
   "cell_type": "code",
   "source": [
    "results = model.fit(\n",
    "train_dataset,\n",
    "epochs= 20,\n",
    "batch_size = 32,\n",
    "validation_data = validation_dataset\n",
    ")"
   ],
   "id": "e2cf0ff7e2d2673",
   "outputs": [
    {
     "name": "stdout",
     "output_type": "stream",
     "text": [
      "Epoch 1/20\n",
      "\u001B[1m875/875\u001B[0m \u001B[32m━━━━━━━━━━━━━━━━━━━━\u001B[0m\u001B[37m\u001B[0m \u001B[1m9s\u001B[0m 7ms/step - accuracy: 0.5111 - loss: 1.3715 - val_accuracy: 0.5446 - val_loss: 0.6904\n",
      "Epoch 2/20\n",
      "\u001B[1m875/875\u001B[0m \u001B[32m━━━━━━━━━━━━━━━━━━━━\u001B[0m\u001B[37m\u001B[0m \u001B[1m7s\u001B[0m 8ms/step - accuracy: 0.5450 - loss: 0.7135 - val_accuracy: 0.5369 - val_loss: 0.6854\n",
      "Epoch 3/20\n",
      "\u001B[1m875/875\u001B[0m \u001B[32m━━━━━━━━━━━━━━━━━━━━\u001B[0m\u001B[37m\u001B[0m \u001B[1m7s\u001B[0m 7ms/step - accuracy: 0.5482 - loss: 0.6902 - val_accuracy: 0.5237 - val_loss: 0.6826\n",
      "Epoch 4/20\n",
      "\u001B[1m875/875\u001B[0m \u001B[32m━━━━━━━━━━━━━━━━━━━━\u001B[0m\u001B[37m\u001B[0m \u001B[1m6s\u001B[0m 7ms/step - accuracy: 0.5575 - loss: 0.6829 - val_accuracy: 0.5460 - val_loss: 0.6792\n",
      "Epoch 5/20\n",
      "\u001B[1m875/875\u001B[0m \u001B[32m━━━━━━━━━━━━━━━━━━━━\u001B[0m\u001B[37m\u001B[0m \u001B[1m7s\u001B[0m 7ms/step - accuracy: 0.5576 - loss: 0.6825 - val_accuracy: 0.5613 - val_loss: 0.6764\n",
      "Epoch 6/20\n",
      "\u001B[1m875/875\u001B[0m \u001B[32m━━━━━━━━━━━━━━━━━━━━\u001B[0m\u001B[37m\u001B[0m \u001B[1m7s\u001B[0m 8ms/step - accuracy: 0.5620 - loss: 0.6782 - val_accuracy: 0.5625 - val_loss: 0.6759\n",
      "Epoch 7/20\n",
      "\u001B[1m875/875\u001B[0m \u001B[32m━━━━━━━━━━━━━━━━━━━━\u001B[0m\u001B[37m\u001B[0m \u001B[1m7s\u001B[0m 8ms/step - accuracy: 0.5678 - loss: 0.6777 - val_accuracy: 0.5657 - val_loss: 0.6765\n",
      "Epoch 8/20\n",
      "\u001B[1m875/875\u001B[0m \u001B[32m━━━━━━━━━━━━━━━━━━━━\u001B[0m\u001B[37m\u001B[0m \u001B[1m7s\u001B[0m 8ms/step - accuracy: 0.5743 - loss: 0.6746 - val_accuracy: 0.5700 - val_loss: 0.6742\n",
      "Epoch 9/20\n",
      "\u001B[1m875/875\u001B[0m \u001B[32m━━━━━━━━━━━━━━━━━━━━\u001B[0m\u001B[37m\u001B[0m \u001B[1m7s\u001B[0m 8ms/step - accuracy: 0.5736 - loss: 0.6732 - val_accuracy: 0.5694 - val_loss: 0.6748\n",
      "Epoch 10/20\n",
      "\u001B[1m875/875\u001B[0m \u001B[32m━━━━━━━━━━━━━━━━━━━━\u001B[0m\u001B[37m\u001B[0m \u001B[1m7s\u001B[0m 8ms/step - accuracy: 0.5811 - loss: 0.6716 - val_accuracy: 0.5668 - val_loss: 0.6746\n",
      "Epoch 11/20\n",
      "\u001B[1m875/875\u001B[0m \u001B[32m━━━━━━━━━━━━━━━━━━━━\u001B[0m\u001B[37m\u001B[0m \u001B[1m6s\u001B[0m 7ms/step - accuracy: 0.5802 - loss: 0.6710 - val_accuracy: 0.5689 - val_loss: 0.6733\n",
      "Epoch 12/20\n",
      "\u001B[1m875/875\u001B[0m \u001B[32m━━━━━━━━━━━━━━━━━━━━\u001B[0m\u001B[37m\u001B[0m \u001B[1m6s\u001B[0m 7ms/step - accuracy: 0.5890 - loss: 0.6681 - val_accuracy: 0.5724 - val_loss: 0.6736\n",
      "Epoch 13/20\n",
      "\u001B[1m875/875\u001B[0m \u001B[32m━━━━━━━━━━━━━━━━━━━━\u001B[0m\u001B[37m\u001B[0m \u001B[1m7s\u001B[0m 8ms/step - accuracy: 0.5859 - loss: 0.6691 - val_accuracy: 0.5689 - val_loss: 0.6740\n",
      "Epoch 14/20\n",
      "\u001B[1m875/875\u001B[0m \u001B[32m━━━━━━━━━━━━━━━━━━━━\u001B[0m\u001B[37m\u001B[0m \u001B[1m6s\u001B[0m 7ms/step - accuracy: 0.5902 - loss: 0.6660 - val_accuracy: 0.5735 - val_loss: 0.6729\n",
      "Epoch 15/20\n",
      "\u001B[1m875/875\u001B[0m \u001B[32m━━━━━━━━━━━━━━━━━━━━\u001B[0m\u001B[37m\u001B[0m \u001B[1m7s\u001B[0m 7ms/step - accuracy: 0.5946 - loss: 0.6638 - val_accuracy: 0.5719 - val_loss: 0.6734\n",
      "Epoch 16/20\n",
      "\u001B[1m875/875\u001B[0m \u001B[32m━━━━━━━━━━━━━━━━━━━━\u001B[0m\u001B[37m\u001B[0m \u001B[1m7s\u001B[0m 7ms/step - accuracy: 0.5940 - loss: 0.6628 - val_accuracy: 0.5730 - val_loss: 0.6739\n",
      "Epoch 17/20\n",
      "\u001B[1m875/875\u001B[0m \u001B[32m━━━━━━━━━━━━━━━━━━━━\u001B[0m\u001B[37m\u001B[0m \u001B[1m6s\u001B[0m 7ms/step - accuracy: 0.5959 - loss: 0.6598 - val_accuracy: 0.5672 - val_loss: 0.6741\n",
      "Epoch 18/20\n",
      "\u001B[1m875/875\u001B[0m \u001B[32m━━━━━━━━━━━━━━━━━━━━\u001B[0m\u001B[37m\u001B[0m \u001B[1m7s\u001B[0m 7ms/step - accuracy: 0.6023 - loss: 0.6593 - val_accuracy: 0.5682 - val_loss: 0.6746\n",
      "Epoch 19/20\n",
      "\u001B[1m875/875\u001B[0m \u001B[32m━━━━━━━━━━━━━━━━━━━━\u001B[0m\u001B[37m\u001B[0m \u001B[1m6s\u001B[0m 7ms/step - accuracy: 0.5921 - loss: 0.6603 - val_accuracy: 0.5668 - val_loss: 0.6747\n",
      "Epoch 20/20\n",
      "\u001B[1m875/875\u001B[0m \u001B[32m━━━━━━━━━━━━━━━━━━━━\u001B[0m\u001B[37m\u001B[0m \u001B[1m6s\u001B[0m 7ms/step - accuracy: 0.6015 - loss: 0.6575 - val_accuracy: 0.5704 - val_loss: 0.6736\n"
     ]
    }
   ],
   "execution_count": 51
  },
  {
   "metadata": {
    "ExecuteTime": {
     "end_time": "2025-03-09T01:32:20.442889Z",
     "start_time": "2025-03-09T01:32:20.139553Z"
    }
   },
   "cell_type": "code",
   "source": [
    "loss, accuracy = model.evaluate(test_dataset)\n",
    "print(f\"Loss: {loss}, Accuracy: {accuracy}\")"
   ],
   "id": "8db5ea6abaed6d7d",
   "outputs": [
    {
     "name": "stdout",
     "output_type": "stream",
     "text": [
      "\u001B[1m188/188\u001B[0m \u001B[32m━━━━━━━━━━━━━━━━━━━━\u001B[0m\u001B[37m\u001B[0m \u001B[1m0s\u001B[0m 1ms/step - accuracy: 0.5811 - loss: 0.6697\n",
      "Loss: 0.6683364510536194, Accuracy: 0.5822805762290955\n"
     ]
    }
   ],
   "execution_count": 52
  },
  {
   "metadata": {},
   "cell_type": "markdown",
   "source": [
    "## Seconda configurazione\n",
    "\n",
    "Nella tokenizzazione delle recensione vengono scelte una size per il vocabolario pari a 50 e una lunghezza massima delle recensioni di 35 (circa la media).\n"
   ],
   "id": "97eddc86909b4b3f"
  },
  {
   "metadata": {},
   "cell_type": "code",
   "outputs": [],
   "execution_count": null,
   "source": [
    "MAX_SEQUENCE_LENGTH = 35\n",
    "VOCAB_SIZE = 50\n",
    "vectorizationLayer = tf.keras.layers.TextVectorization(\n",
    "    max_tokens=VOCAB_SIZE,\n",
    "    output_mode='int',\n",
    "    output_sequence_length=MAX_SEQUENCE_LENGTH)\n",
    "vectorizationLayer.adapt(X_train)"
   ],
   "id": "c2252f9014d25f8a"
  },
  {
   "metadata": {},
   "cell_type": "code",
   "outputs": [],
   "execution_count": null,
   "source": "model = models.Sequential()",
   "id": "4b0aa4a8a57adf8e"
  },
  {
   "metadata": {},
   "cell_type": "code",
   "outputs": [],
   "execution_count": null,
   "source": [
    "# Input - Layer\n",
    "model.add(vectorizationLayer)\n",
    "# Hidden - Layers\n",
    "model.add(layers.Dense(50, activation = \"relu\"))\n",
    "model.add(layers.Dropout(0.3))\n",
    "model.add(layers.Dense(50, activation = \"relu\"))\n",
    "model.add(layers.Dropout(0.2))\n",
    "model.add(layers.Dense(50, activation = \"relu\"))\n",
    "# Output- Layer\n",
    "model.add(layers.Dense(1, activation = \"sigmoid\"))\n",
    "model.summary()"
   ],
   "id": "70ef0b663a8712e5"
  },
  {
   "metadata": {},
   "cell_type": "code",
   "outputs": [],
   "execution_count": null,
   "source": [
    "model.compile(\n",
    "optimizer = \"adam\",\n",
    "loss = \"binary_crossentropy\",\n",
    "metrics = [\"accuracy\"]\n",
    ")"
   ],
   "id": "cd43e49218c087b8"
  },
  {
   "metadata": {},
   "cell_type": "code",
   "outputs": [],
   "execution_count": null,
   "source": [
    "results = model.fit(\n",
    "train_dataset,\n",
    "epochs= 20,\n",
    "batch_size = 32,\n",
    "validation_data = validation_dataset\n",
    ")"
   ],
   "id": "ee92444528ce9b2f"
  },
  {
   "metadata": {},
   "cell_type": "code",
   "outputs": [],
   "execution_count": null,
   "source": [
    "loss, accuracy = model.evaluate(test_dataset)\n",
    "print(f\"Loss: {loss}, Accuracy: {accuracy}\")"
   ],
   "id": "73439dac28592178"
  },
  {
   "metadata": {},
   "cell_type": "markdown",
   "source": [
    "## Terza configurazione\n",
    "\n",
    "Nella tokenizzazione delle recensione vengono scelte una size per il vocabolario pari a 100 e una lunghezza massima delle recensioni di 70 (sopra la media).\n"
   ],
   "id": "69c654f921b5fdb7"
  },
  {
   "metadata": {},
   "cell_type": "code",
   "outputs": [],
   "execution_count": null,
   "source": [
    "MAX_SEQUENCE_LENGTH = 70\n",
    "VOCAB_SIZE = 100\n",
    "vectorizationLayer = tf.keras.layers.TextVectorization(\n",
    "    max_tokens=VOCAB_SIZE,\n",
    "    output_mode='int',\n",
    "    output_sequence_length=MAX_SEQUENCE_LENGTH)\n",
    "vectorizationLayer.adapt(X_train)"
   ],
   "id": "cdaa731999403752"
  },
  {
   "metadata": {},
   "cell_type": "code",
   "outputs": [],
   "execution_count": null,
   "source": "model = models.Sequential()",
   "id": "172924d8a159f6aa"
  },
  {
   "metadata": {},
   "cell_type": "code",
   "outputs": [],
   "execution_count": null,
   "source": [
    "# Input - Layer\n",
    "model.add(vectorizationLayer)\n",
    "# Hidden - Layers\n",
    "model.add(layers.Dense(50, activation = \"relu\"))\n",
    "model.add(layers.Dropout(0.3))\n",
    "model.add(layers.Dense(50, activation = \"relu\"))\n",
    "model.add(layers.Dropout(0.2))\n",
    "model.add(layers.Dense(50, activation = \"relu\"))\n",
    "# Output- Layer\n",
    "model.add(layers.Dense(1, activation = \"sigmoid\"))\n",
    "model.summary()"
   ],
   "id": "6671be1435f1edee"
  },
  {
   "metadata": {},
   "cell_type": "code",
   "outputs": [],
   "execution_count": null,
   "source": [
    "model.compile(\n",
    "optimizer = \"adam\",\n",
    "loss = \"binary_crossentropy\",\n",
    "metrics = [\"accuracy\"]\n",
    ")"
   ],
   "id": "5640e5f260db49ca"
  },
  {
   "metadata": {},
   "cell_type": "code",
   "outputs": [],
   "execution_count": null,
   "source": [
    "results = model.fit(\n",
    "train_dataset,\n",
    "epochs= 20,\n",
    "batch_size = 32,\n",
    "validation_data = validation_dataset\n",
    ")"
   ],
   "id": "cad0ae2e472debd"
  },
  {
   "metadata": {},
   "cell_type": "code",
   "outputs": [],
   "execution_count": null,
   "source": [
    "loss, accuracy = model.evaluate(test_dataset)\n",
    "print(f\"Loss: {loss}, Accuracy: {accuracy}\")"
   ],
   "id": "ece7f8fd948cb276"
  }
 ],
 "metadata": {
  "kernelspec": {
   "display_name": "Python 3",
   "language": "python",
   "name": "python3"
  },
  "language_info": {
   "codemirror_mode": {
    "name": "ipython",
    "version": 2
   },
   "file_extension": ".py",
   "mimetype": "text/x-python",
   "name": "python",
   "nbconvert_exporter": "python",
   "pygments_lexer": "ipython2",
   "version": "2.7.6"
  }
 },
 "nbformat": 4,
 "nbformat_minor": 5
}
